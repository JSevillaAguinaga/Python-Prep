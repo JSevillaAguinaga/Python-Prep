{
 "cells": [
  {
   "cell_type": "markdown",
   "metadata": {},
   "source": [
    "## Entrada / Salida"
   ]
  },
  {
   "cell_type": "markdown",
   "metadata": {},
   "source": [
    "**Todos los archivos que he creado están en la carpeta \"Archivos Homework M10\"**"
   ]
  },
  {
   "cell_type": "markdown",
   "metadata": {},
   "source": [
    "1) Crear un script con el nombre \"clase10_ej1_hw.py\" que reciba 3 parametros a elección, verificando que sean exactamente esa cantidad, y muestre como salida los parámetros recibidos"
   ]
  },
  {
   "cell_type": "code",
   "execution_count": 4,
   "metadata": {},
   "outputs": [
    {
     "name": "stdout",
     "output_type": "stream",
     "text": [
      "El primer elemento es C:\\Users\\jose_\\AppData\\Roaming\\Python\\Python311\\site-packages\\ipykernel_launcher.py\n"
     ]
    }
   ],
   "source": [
    "import sys\n",
    "\n",
    "sys.path.append(r\"C:/Users/jose_/Escritorio/Python-Prep/M10_manejodearchivos/Archivos Homework M10\")\n",
    "\n",
    "import clase10_ej1_hw\n"
   ]
  },
  {
   "cell_type": "markdown",
   "metadata": {},
   "source": [
    "2) Crear un script con el nombre \"clase10_ej2_hw.py\" que reciba como un valor de temperatura en grados centígrados, un valor de humedad y por último si llovio (Con True o False). Y que cada vez que sea invocado, cargue en el archivo provisto \"clase09_ej2.csv\" una marca de tiempo y esa información."
   ]
  },
  {
   "cell_type": "code",
   "execution_count": 4,
   "metadata": {},
   "outputs": [
    {
     "name": "stdout",
     "output_type": "stream",
     "text": [
      "ERROR: Introdujo una cantidad de argumentos distinta de tres (3)\n",
      "Ejemplo: clase09_ej1.py <temperatura> <humedad> <True o False>\n"
     ]
    }
   ],
   "source": [
    "import clase10_ej2_hw"
   ]
  },
  {
   "cell_type": "markdown",
   "metadata": {},
   "source": [
    "Para trabajar con tipos de datos relacionados con la medición del tiempo, como ser fechas, horarios o marcas de tiempo se puede utilizar la clase *datetime*"
   ]
  },
  {
   "cell_type": "code",
   "execution_count": 8,
   "metadata": {},
   "outputs": [
    {
     "name": "stdout",
     "output_type": "stream",
     "text": [
      "1995-03-04\n",
      "23:45:59\n",
      "2023-11-18 17:06:58.334788\n",
      "2023-11-18 22:06:58.334788\n",
      "2023-11-17 14:30:00\n",
      "2023-11-18 17:06:58\n",
      "48 days, 3:40:12.011059\n"
     ]
    }
   ],
   "source": [
    "import datetime as dt\n",
    "\n",
    "fecha = dt.date(1995, 3, 4)\n",
    "print(fecha)\n",
    "hora = dt.time(23, 45, 59)\n",
    "print(hora)\n",
    "fechahora = dt.datetime.now()\n",
    "print(fechahora)\n",
    "fechahorautc = dt.datetime.utcnow()\n",
    "print(fechahorautc)\n",
    "fechatxt = dt.datetime.strptime(\"2023-11-17 14:30:00\", \"%Y-%m-%d %H:%M:%S\")\n",
    "print(fechatxt)\n",
    "fechatime = dt.datetime.now().strftime(\"%Y-%m-%d %H:%M:%S\")\n",
    "print(fechatime)\n",
    "tiempodelta=dt.timedelta(13,12,59,11,40,3,5)\n",
    "print(tiempodelta)"
   ]
  },
  {
   "cell_type": "markdown",
   "metadata": {},
   "source": [
    "3) Crear un archivo a partir de los datos presentes en el diccionario provisto. El cual debe contener en la primera fila el nombre de las claves y luego cada línea los elementos i-ésimos de las listas de valores contiguos y separados por coma ','. Este archivo debe llamarse clase10_ej3_hw.csv"
   ]
  },
  {
   "cell_type": "code",
   "execution_count": null,
   "metadata": {},
   "outputs": [],
   "source": [
    "montañas = {\n",
    "    \"nombre\": [\n",
    "        \"Everest\",\n",
    "        \"K2\",\n",
    "        \"Kanchenjunga\",\n",
    "        \"Lhotse\",\n",
    "        \"Makalu\",\n",
    "        \"Cho Oyu\",\n",
    "        \"Dhaulagiri\",\n",
    "        \"Manaslu\",\n",
    "        \"Nanga Parbat\",\n",
    "        \"Annapurna I\",\n",
    "    ],\n",
    "    \"orden\": [1, 2, 3, 4, 5, 6, 7, 8, 9, 10],\n",
    "    \"cordillera\": [\n",
    "        \"Himalaya\",\n",
    "        \"Karakórum\",\n",
    "        \"Himalaya\",\n",
    "        \"Himalaya\",\n",
    "        \"Himalaya\",\n",
    "        \"Himalaya\",\n",
    "        \"Himalaya\",\n",
    "        \"Himalaya\",\n",
    "        \"Karakórum\",\n",
    "        \"Himalaya\",\n",
    "    ],\n",
    "    \"pais\": [\n",
    "        \"Nepal\",\n",
    "        \"Pakistán\",\n",
    "        \"Nepal\",\n",
    "        \"Nepal\",\n",
    "        \"Nepal\",\n",
    "        \"Nepal\",\n",
    "        \"Nepal\",\n",
    "        \"Nepal\",\n",
    "        \"Pakistán\",\n",
    "        \"Nepal\",\n",
    "    ],\n",
    "    \"altura\": [8849, 8611, 8586, 8516, 8485, 8188, 8167, 8163, 8125, 8091],\n",
    "}"
   ]
  },
  {
   "cell_type": "code",
   "execution_count": 11,
   "metadata": {},
   "outputs": [],
   "source": [
    "# script del ejercicio en el archivo \"clase10_ej3_hw.py\"\n",
    "\n",
    "import clase10_ej3_hw"
   ]
  },
  {
   "cell_type": "markdown",
   "metadata": {},
   "source": [
    "4) Mostrar el tamaño en MB del archivo generado en el punto 3"
   ]
  },
  {
   "cell_type": "code",
   "execution_count": 14,
   "metadata": {},
   "outputs": [
    {
     "data": {
      "text/plain": [
       "359"
      ]
     },
     "execution_count": 14,
     "metadata": {},
     "output_type": "execute_result"
    }
   ],
   "source": [
    "import os\n",
    "\n",
    "os.path.getsize(\n",
    "    r\"C:/Users/jose_/Escritorio/Python-Prep/M10_manejodearchivos/Archivos Homework M10/clase10_ej3_hw.csv\"\n",
    ")"
   ]
  },
  {
   "cell_type": "markdown",
   "metadata": {},
   "source": [
    "5) Crear una carpeta llamada clase10_montañas_altas_hw"
   ]
  },
  {
   "cell_type": "code",
   "execution_count": 8,
   "metadata": {},
   "outputs": [],
   "source": [
    "# ruta_deseada = r'C:/Users/jose_/Escritorio/Python-Prep/M10_manejodearchivos/Archivos Homework M10/'\n",
    "# nombre_carpeta = \"clase10_montañas_altas_hw\"\n",
    "\n",
    "# ruta_completa = os.path.join(ruta_deseada, nombre_carpeta)\n",
    "\n",
    "# if not os.path.exists(ruta_completa):\n",
    "# os.makedirs(ruta_completa)\n",
    "# print(f\"Se creó la carpeta '{nombre_carpeta}' en '{ruta_deseada}'.\")\n",
    "# else:\n",
    "# print(f\"La carpeta '{nombre_carpeta}' ya existe en '{ruta_deseada}'.\")\n",
    "\n",
    "\n",
    "os.makedirs(\"clase10_montañas_altas_hw\")"
   ]
  },
  {
   "cell_type": "markdown",
   "metadata": {},
   "source": [
    "6) Copiar el archivo clase10_ej3_hw.csv en la carpeta clase10_montañas_altas_hw usando la sentencia **os.system**"
   ]
  },
  {
   "cell_type": "code",
   "execution_count": 13,
   "metadata": {},
   "outputs": [
    {
     "data": {
      "text/plain": [
       "'C:/Users/jose_/Escritorio/Python-Prep/M10_manejodearchivos/Archivos Homework M10/clase10_montañas_altas_hw/clase10_ej3_hw.csv'"
      ]
     },
     "execution_count": 13,
     "metadata": {},
     "output_type": "execute_result"
    }
   ],
   "source": [
    "import os\n",
    "import shutil\n",
    "\n",
    "\n",
    "archivo = r\"C:/Users/jose_/Escritorio/Python-Prep/M10_manejodearchivos/Archivos Homework M10/clase10_ej3_hw.csv\"\n",
    "\n",
    "nueva_ruta = r\"C:/Users/jose_/Escritorio/Python-Prep/M10_manejodearchivos/Archivos Homework M10/clase10_montañas_altas_hw/\"\n",
    "\n",
    "# comando_copia = f\" copy {archivo} {nueva_ruta}\"\n",
    "\n",
    "# os.system(comando_copia)\n",
    "\n",
    "shutil.copy(archivo, nueva_ruta)\n",
    "\n",
    "#no pude copiar el archivo con os.system"
   ]
  },
  {
   "cell_type": "markdown",
   "metadata": {},
   "source": [
    "7) Listar el contenido de la carpeta clase10_montañas_altas_hw"
   ]
  },
  {
   "cell_type": "code",
   "execution_count": 16,
   "metadata": {},
   "outputs": [
    {
     "data": {
      "text/plain": [
       "['clase10_ej3_hw.csv']"
      ]
     },
     "execution_count": 16,
     "metadata": {},
     "output_type": "execute_result"
    }
   ],
   "source": [
    "os.listdir(r'C:/Users/jose_/Escritorio/Python-Prep/M10_manejodearchivos/Archivos Homework M10/clase10_montañas_altas_hw')"
   ]
  }
 ],
 "metadata": {
  "interpreter": {
   "hash": "c85384e4cb51c8b72350f3a8712cc8351fdc3955e32a27f9b60c6242ab125f01"
  },
  "kernelspec": {
   "display_name": "Python 3 (ipykernel)",
   "language": "python",
   "name": "python3"
  },
  "language_info": {
   "codemirror_mode": {
    "name": "ipython",
    "version": 3
   },
   "file_extension": ".py",
   "mimetype": "text/x-python",
   "name": "python",
   "nbconvert_exporter": "python",
   "pygments_lexer": "ipython3",
   "version": "3.11.4"
  }
 },
 "nbformat": 4,
 "nbformat_minor": 4
}
