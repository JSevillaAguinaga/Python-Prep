{
 "cells": [
  {
   "cell_type": "markdown",
   "metadata": {},
   "source": [
    "Entrada / Salida"
   ]
  },
  {
   "cell_type": "code",
   "execution_count": 5,
   "metadata": {},
   "outputs": [
    {
     "name": "stdout",
     "output_type": "stream",
     "text": [
      "Buenos días C:\\Users\\jose_\\AppData\\Roaming\\Python\\Python311\\site-packages\\ipykernel_launcher.py\n"
     ]
    }
   ],
   "source": [
    "import sys\n",
    "\n",
    "\n",
    "print(f\"Buenos días {sys.argv[0]}\")\n"
   ]
  },
  {
   "cell_type": "markdown",
   "metadata": {},
   "source": [
    "Interactuar con el sistema de archivos"
   ]
  },
  {
   "cell_type": "code",
   "execution_count": 6,
   "metadata": {},
   "outputs": [],
   "source": [
    "import os"
   ]
  },
  {
   "cell_type": "code",
   "execution_count": 8,
   "metadata": {},
   "outputs": [],
   "source": [
    "# Crear una carpeta nueva\n",
    "\n",
    "os.makedirs(\n",
    "    r\"C:/Users/jose_/Escritorio/Python-Prep/Prácticas/Modulo 10 Manejo de archivos/Mis practicas\"\n",
    ")\n",
    "\n",
    "# Simplemente especificamos la ruta de la carpeta que queremos crear y este método se encarga de crearla en el sistema de archivos."
   ]
  },
  {
   "cell_type": "code",
   "execution_count": 10,
   "metadata": {},
   "outputs": [
    {
     "data": {
      "text/plain": [
       "['Modulo 10 Manejo de archivos',\n",
       " 'Modulo 3 Tipos de datos',\n",
       " 'Modulo 4 Flujos de control',\n",
       " 'Modulo 5 Estructura de datos',\n",
       " 'Modulo 6 Iterables e iteradores',\n",
       " 'Modulo 7 Funciones',\n",
       " 'Modulo 8 Clases y OOPS',\n",
       " 'Modulo 9 Error Handling']"
      ]
     },
     "execution_count": 10,
     "metadata": {},
     "output_type": "execute_result"
    }
   ],
   "source": [
    "# Lista el contenido de una carpeta\n",
    "\n",
    "os.listdir(r\"C:/Users/jose_/Escritorio/Python-Prep/Prácticas/\")\n",
    "\n",
    "# Este método nos devuelve una lista con los nombres de los archivos y subdirectorios que se encuentran en la carpeta especificada."
   ]
  },
  {
   "cell_type": "code",
   "execution_count": 12,
   "metadata": {},
   "outputs": [
    {
     "data": {
      "text/plain": [
       "'c:\\\\Users\\\\jose_\\\\Escritorio\\\\Python-Prep\\\\Prácticas\\\\Modulo 10 Manejo de archivos'"
      ]
     },
     "execution_count": 12,
     "metadata": {},
     "output_type": "execute_result"
    }
   ],
   "source": [
    "# Mostrar el directorio de trabajo\n",
    "\n",
    "os.getcwd()\n",
    "# Se utiliza para obtener el directorio de trabajo actual (current working directory).\n",
    "# El directorio de trabajo actual es el directorio desde el cual se está ejecutando el script o el programa."
   ]
  },
  {
   "cell_type": "code",
   "execution_count": 13,
   "metadata": {},
   "outputs": [
    {
     "data": {
      "text/plain": [
       "850"
      ]
     },
     "execution_count": 13,
     "metadata": {},
     "output_type": "execute_result"
    }
   ],
   "source": [
    "# Mostrar el tamaño en bytes de un archivo pasado como parámetro\n",
    "\n",
    "os.path.getsize(\n",
    "    r\"C:/Users/jose_/Escritorio/Python-Prep/Prácticas/Modulo 10 Manejo de archivos/practica_M10.ipynb\"\n",
    ")\n",
    "\n",
    "# Especificamos la ruta del archivo y este método nos devuelve el tamaño en bytes"
   ]
  },
  {
   "cell_type": "code",
   "execution_count": 14,
   "metadata": {},
   "outputs": [
    {
     "data": {
      "text/plain": [
       "True"
      ]
     },
     "execution_count": 14,
     "metadata": {},
     "output_type": "execute_result"
    }
   ],
   "source": [
    "# Verificar si el parámetro pasado a la función es un archivo\n",
    "\n",
    "os.path.isfile(\n",
    "    r\"C:/Users/jose_/Escritorio/Python-Prep/Prácticas/Modulo 10 Manejo de archivos/practica_M10.ipynb\"\n",
    ")\n",
    "\n",
    "# Este método devuelve un valor booleano (True o False) que indica si el parámetro es un archivo válido."
   ]
  },
  {
   "cell_type": "code",
   "execution_count": 15,
   "metadata": {},
   "outputs": [
    {
     "data": {
      "text/plain": [
       "False"
      ]
     },
     "execution_count": 15,
     "metadata": {},
     "output_type": "execute_result"
    }
   ],
   "source": [
    "os.path.isfile(\n",
    "    r\"C:/Users/jose_/Escritorio/Python-Prep/Prácticas/Modulo 10 Manejo de archivos\"\n",
    ")"
   ]
  },
  {
   "cell_type": "code",
   "execution_count": 17,
   "metadata": {},
   "outputs": [
    {
     "data": {
      "text/plain": [
       "True"
      ]
     },
     "execution_count": 17,
     "metadata": {},
     "output_type": "execute_result"
    }
   ],
   "source": [
    "# Verificar si el parámetro pasado a la función es una carpeta\n",
    "\n",
    "os.path.isdir(\n",
    "    r\"C:/Users/jose_/Escritorio/Python-Prep/Prácticas/Modulo 10 Manejo de archivos\"\n",
    ")\n",
    "\n",
    "# Este método devuelve un valor booleano que indica si el parámetro es una carpeta válida."
   ]
  },
  {
   "cell_type": "code",
   "execution_count": 18,
   "metadata": {},
   "outputs": [
    {
     "data": {
      "text/plain": [
       "False"
      ]
     },
     "execution_count": 18,
     "metadata": {},
     "output_type": "execute_result"
    }
   ],
   "source": [
    "os.path.isdir(\n",
    "    r\"C:/Users/jose_/Escritorio/Python-Prep/Prácticas/Modulo 10 Manejo de archivos/practica_M10.ipynb\"\n",
    ")"
   ]
  },
  {
   "cell_type": "code",
   "execution_count": 21,
   "metadata": {},
   "outputs": [],
   "source": [
    "# Cambiar directorio/carpeta\n",
    "\n",
    "os.chdir(\n",
    "    r\"C:/Users/jose_/Escritorio/Python-Prep/Prácticas/Modulo 10 Manejo de archivos\"\n",
    ")\n",
    "\n",
    "# Simplemente especificamos la ruta de la nueva carpeta a la que queremos cambiar y este método actualiza el directorio actual."
   ]
  },
  {
   "cell_type": "code",
   "execution_count": 24,
   "metadata": {},
   "outputs": [],
   "source": [
    "# Renombrar un archivo\n",
    "\n",
    "os.rename(\n",
    "    r\"C:/Users/jose_/Escritorio/Python-Prep/Prácticas/Modulo 10 Manejo de archivos/Muchas practicas\",\"Mis practicas\"\n",
    ")\n",
    "\n",
    "# Especificamos la ruta y el nombre actual del archivo, junto con el nuevo nombre que queremos asignarle"
   ]
  },
  {
   "cell_type": "code",
   "execution_count": 27,
   "metadata": {},
   "outputs": [],
   "source": [
    "# Eliminar un archivo\n",
    "\n",
    "os.remove(r\"C:/Users/jose_/Escritorio/Presentación1 - copia.pptx\")\n",
    "\n",
    "# Simplemente especificamos la ruta del archivo que queremos eliminar y este método se encarga de borrarlo del sistema de archivos"
   ]
  },
  {
   "cell_type": "code",
   "execution_count": 28,
   "metadata": {},
   "outputs": [],
   "source": [
    "# Eliminar una carpeta\n",
    "\n",
    "os.rmdir(\n",
    "    r\"C:/Users/jose_/Escritorio/Python-Prep/Prácticas/Modulo 10 Manejo de archivos/Mis practicas\",\n",
    ")\n",
    "\n",
    "# Especificamos la ruta de la carpeta que queremos eliminar y este método se encarga de borrarla, siempre y cuando esté vacía."
   ]
  }
 ],
 "metadata": {
  "kernelspec": {
   "display_name": "Python 3",
   "language": "python",
   "name": "python3"
  },
  "language_info": {
   "codemirror_mode": {
    "name": "ipython",
    "version": 3
   },
   "file_extension": ".py",
   "mimetype": "text/x-python",
   "name": "python",
   "nbconvert_exporter": "python",
   "pygments_lexer": "ipython3",
   "version": "3.11.4"
  }
 },
 "nbformat": 4,
 "nbformat_minor": 2
}
