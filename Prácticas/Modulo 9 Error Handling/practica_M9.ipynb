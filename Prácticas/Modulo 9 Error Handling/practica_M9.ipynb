{
 "cells": [
  {
   "cell_type": "markdown",
   "metadata": {},
   "source": [
    "Pruebas de caja negra"
   ]
  },
  {
   "cell_type": "code",
   "execution_count": 14,
   "metadata": {},
   "outputs": [],
   "source": [
    "def suma(num_1,num_2):\n",
    "    return num_1+num_2"
   ]
  },
  {
   "cell_type": "code",
   "execution_count": 15,
   "metadata": {},
   "outputs": [],
   "source": [
    "import unittest"
   ]
  },
  {
   "cell_type": "code",
   "execution_count": 16,
   "metadata": {},
   "outputs": [],
   "source": [
    "class CajaNegraTest(unittest.TestCase):\n",
    "    def test_suma_dos_positivos(self):\n",
    "        num_1 = 10\n",
    "        num_2 = 5\n",
    "\n",
    "        resultado = suma(num_1, num_2)\n",
    "\n",
    "        self.assertEqual(resultado, 15)\n",
    "    \n",
    "    def test_suma_dos_negativos(self):\n",
    "        num_1 = -10\n",
    "        num_2 = -7\n",
    "\n",
    "        resultado = suma(num_1, num_2)\n",
    "\n",
    "        self.assertEqual(resultado, -17)"
   ]
  },
  {
   "cell_type": "code",
   "execution_count": 1,
   "metadata": {},
   "outputs": [
    {
     "ename": "NameError",
     "evalue": "name 'unittest' is not defined",
     "output_type": "error",
     "traceback": [
      "\u001b[1;31m---------------------------------------------------------------------------\u001b[0m",
      "\u001b[1;31mNameError\u001b[0m                                 Traceback (most recent call last)",
      "\u001b[1;32mc:\\Users\\jose_\\Escritorio\\Python-Prep\\Prácticas\\Modulo 9 Error Handling\\practica_M9.ipynb Celda 5\u001b[0m line \u001b[0;36m1\n\u001b[1;32m----> <a href='vscode-notebook-cell:/c%3A/Users/jose_/Escritorio/Python-Prep/Pr%C3%A1cticas/Modulo%209%20Error%20Handling/practica_M9.ipynb#W4sZmlsZQ%3D%3D?line=0'>1</a>\u001b[0m unittest\u001b[39m.\u001b[39mmain(argv\u001b[39m=\u001b[39m[\u001b[39m\"\u001b[39m\u001b[39m\"\u001b[39m], verbosity\u001b[39m=\u001b[39m\u001b[39m2\u001b[39m, exit\u001b[39m=\u001b[39m\u001b[39mFalse\u001b[39;00m)\n",
      "\u001b[1;31mNameError\u001b[0m: name 'unittest' is not defined"
     ]
    }
   ],
   "source": [
    "unittest.main(argv=[\"\"], verbosity=2, exit=False)"
   ]
  },
  {
   "cell_type": "markdown",
   "metadata": {},
   "source": [
    "Pruebas de caja de cristal"
   ]
  },
  {
   "cell_type": "code",
   "execution_count": 3,
   "metadata": {},
   "outputs": [],
   "source": [
    "import unittest\n",
    "\n",
    "def es_mayor_de_edad(edad):\n",
    "    if edad >= 18:\n",
    "        return True\n",
    "    else:\n",
    "        return False\n",
    "\n",
    "class PruebaDeCristalTest(unittest.TestCase):\n",
    "    def test_es_mayor_de_edad(self):\n",
    "        edad = 20\n",
    "\n",
    "        resultado = es_mayor_de_edad(edad)\n",
    "\n",
    "        self.assertEqual(resultado, True)\n",
    "\n",
    "    def test_es_menor_de_edad(self):\n",
    "        edad = 15\n",
    "\n",
    "        resultado = es_mayor_de_edad(edad)\n",
    "\n",
    "        self.assertEqual(resultado, False)"
   ]
  },
  {
   "cell_type": "code",
   "execution_count": 4,
   "metadata": {},
   "outputs": [
    {
     "name": "stderr",
     "output_type": "stream",
     "text": [
      "test_es_mayor_de_edad (__main__.PruebaDeCristalTest.test_es_mayor_de_edad) ... ok\n",
      "test_es_menor_de_edad (__main__.PruebaDeCristalTest.test_es_menor_de_edad) ... ok\n",
      "\n",
      "----------------------------------------------------------------------\n",
      "Ran 2 tests in 0.009s\n",
      "\n",
      "OK\n"
     ]
    },
    {
     "data": {
      "text/plain": [
       "<unittest.main.TestProgram at 0x21d85c8c9d0>"
      ]
     },
     "execution_count": 4,
     "metadata": {},
     "output_type": "execute_result"
    }
   ],
   "source": [
    "unittest.main(argv=[\"\"], verbosity=2, exit=False)"
   ]
  },
  {
   "cell_type": "markdown",
   "metadata": {},
   "source": [
    "Debugging"
   ]
  },
  {
   "cell_type": "code",
   "execution_count": 26,
   "metadata": {},
   "outputs": [
    {
     "ename": "NameError",
     "evalue": "name 'lista_multiplicada' is not defined",
     "output_type": "error",
     "traceback": [
      "\u001b[1;31m---------------------------------------------------------------------------\u001b[0m",
      "\u001b[1;31mNameError\u001b[0m                                 Traceback (most recent call last)",
      "\u001b[1;32mc:\\Users\\jose_\\Escritorio\\Python-Prep\\Prácticas\\Modulo 9 Error Handling\\practica_M9.ipynb Celda 10\u001b[0m line \u001b[0;36m8\n\u001b[0;32m      <a href='vscode-notebook-cell:/c%3A/Users/jose_/Escritorio/Python-Prep/Pr%C3%A1cticas/Modulo%209%20Error%20Handling/practica_M9.ipynb#X14sZmlsZQ%3D%3D?line=4'>5</a>\u001b[0m     \u001b[39mreturn\u001b[39;00m lista_multiplicada\n\u001b[0;32m      <a href='vscode-notebook-cell:/c%3A/Users/jose_/Escritorio/Python-Prep/Pr%C3%A1cticas/Modulo%209%20Error%20Handling/practica_M9.ipynb#X14sZmlsZQ%3D%3D?line=6'>7</a>\u001b[0m liste\u001b[39m=\u001b[39m\u001b[39mlist\u001b[39m(\u001b[39mrange\u001b[39m(\u001b[39m10\u001b[39m))\n\u001b[1;32m----> <a href='vscode-notebook-cell:/c%3A/Users/jose_/Escritorio/Python-Prep/Pr%C3%A1cticas/Modulo%209%20Error%20Handling/practica_M9.ipynb#X14sZmlsZQ%3D%3D?line=7'>8</a>\u001b[0m multiplica_por_dos(liste)\n",
      "\u001b[1;32mc:\\Users\\jose_\\Escritorio\\Python-Prep\\Prácticas\\Modulo 9 Error Handling\\practica_M9.ipynb Celda 10\u001b[0m line \u001b[0;36m4\n\u001b[0;32m      <a href='vscode-notebook-cell:/c%3A/Users/jose_/Escritorio/Python-Prep/Pr%C3%A1cticas/Modulo%209%20Error%20Handling/practica_M9.ipynb#X14sZmlsZQ%3D%3D?line=0'>1</a>\u001b[0m \u001b[39mdef\u001b[39;00m \u001b[39mmultiplica_por_dos\u001b[39m(lista):\n\u001b[0;32m      <a href='vscode-notebook-cell:/c%3A/Users/jose_/Escritorio/Python-Prep/Pr%C3%A1cticas/Modulo%209%20Error%20Handling/practica_M9.ipynb#X14sZmlsZQ%3D%3D?line=1'>2</a>\u001b[0m     \u001b[39m#lista_multiplicada = []\u001b[39;00m\n\u001b[0;32m      <a href='vscode-notebook-cell:/c%3A/Users/jose_/Escritorio/Python-Prep/Pr%C3%A1cticas/Modulo%209%20Error%20Handling/practica_M9.ipynb#X14sZmlsZQ%3D%3D?line=2'>3</a>\u001b[0m     \u001b[39mfor\u001b[39;00m num \u001b[39min\u001b[39;00m lista:\n\u001b[1;32m----> <a href='vscode-notebook-cell:/c%3A/Users/jose_/Escritorio/Python-Prep/Pr%C3%A1cticas/Modulo%209%20Error%20Handling/practica_M9.ipynb#X14sZmlsZQ%3D%3D?line=3'>4</a>\u001b[0m         lista_multiplicada\u001b[39m.\u001b[39mappend(num \u001b[39m*\u001b[39m \u001b[39m2\u001b[39m)\n\u001b[0;32m      <a href='vscode-notebook-cell:/c%3A/Users/jose_/Escritorio/Python-Prep/Pr%C3%A1cticas/Modulo%209%20Error%20Handling/practica_M9.ipynb#X14sZmlsZQ%3D%3D?line=4'>5</a>\u001b[0m     \u001b[39mreturn\u001b[39;00m lista_multiplicada\n",
      "\u001b[1;31mNameError\u001b[0m: name 'lista_multiplicada' is not defined"
     ]
    }
   ],
   "source": [
    "def multiplica_por_dos(lista):\n",
    "    lista_multiplicada = []\n",
    "    for num in lista:\n",
    "        lista_multiplicada.append(num * 2)\n",
    "    return lista_multiplicada\n",
    "\n",
    "liste=list(range(10))\n",
    "multiplica_por_dos(liste)"
   ]
  },
  {
   "cell_type": "markdown",
   "metadata": {},
   "source": [
    "Manejo de excepciones"
   ]
  },
  {
   "cell_type": "code",
   "execution_count": 28,
   "metadata": {},
   "outputs": [
    {
     "name": "stdout",
     "output_type": "stream",
     "text": [
      "division by zero\n"
     ]
    },
    {
     "data": {
      "text/plain": [
       "[0, 1, 2, 3, 4, 5, 6, 7, 8, 9]"
      ]
     },
     "execution_count": 28,
     "metadata": {},
     "output_type": "execute_result"
    }
   ],
   "source": [
    "def divide_elementos_de_lista(lista, divisor):\n",
    "    \"\"\"\n",
    "    Cada elemento de una lista es dividida por un divisor definido.\n",
    "    En caso de error de tipo ZeroDivisionError que\n",
    "    significa error al dividir en cero\n",
    "    la función devuelve la lista inicial\n",
    "    \"\"\"\n",
    "\n",
    "    try:\n",
    "        return [i / divisor for i in lista]\n",
    "\n",
    "    except ZeroDivisionError as e:\n",
    "        print(e)\n",
    "        return lista\n",
    "    \n",
    "divide_elementos_de_lista(liste,0)"
   ]
  },
  {
   "cell_type": "markdown",
   "metadata": {},
   "source": [
    "Excepciones, control de flujo y afirmaciones"
   ]
  },
  {
   "cell_type": "code",
   "execution_count": 30,
   "metadata": {},
   "outputs": [
    {
     "name": "stdout",
     "output_type": "stream",
     "text": [
      "No se puede dividir por cero.\n"
     ]
    }
   ],
   "source": [
    "def dividir(num1, num2):\n",
    "    try:\n",
    "        resultado = num1 / num2\n",
    "        return resultado\n",
    "    except ZeroDivisionError:\n",
    "        print(\"No se puede dividir por cero.\")\n",
    "        return None\n",
    "    \n",
    "dividir(18,0)"
   ]
  },
  {
   "cell_type": "code",
   "execution_count": 31,
   "metadata": {},
   "outputs": [
    {
     "name": "stdout",
     "output_type": "stream",
     "text": [
      "El archivo no existe.\n"
     ]
    }
   ],
   "source": [
    "try:\n",
    "    with open(\"archivo.txt\", \"r\") as f:\n",
    "        contenido = f.read()\n",
    "except FileNotFoundError:\n",
    "    print(\"El archivo no existe.\")"
   ]
  },
  {
   "cell_type": "code",
   "execution_count": 34,
   "metadata": {},
   "outputs": [
    {
     "name": "stdout",
     "output_type": "stream",
     "text": [
      "La clave no existe en el diccionario\n"
     ]
    }
   ],
   "source": [
    "paises={'México':'MX','Estados Unidos':'USA','Brasil':'BR'}\n",
    "\n",
    "try:\n",
    "    codigo=paises['Argentina']\n",
    "except KeyError:\n",
    "    print('La clave no existe en el diccionario')\n"
   ]
  },
  {
   "cell_type": "code",
   "execution_count": 32,
   "metadata": {},
   "outputs": [
    {
     "ename": "AssertionError",
     "evalue": "69 no es str",
     "output_type": "error",
     "traceback": [
      "\u001b[1;31m---------------------------------------------------------------------------\u001b[0m",
      "\u001b[1;31mAssertionError\u001b[0m                            Traceback (most recent call last)",
      "\u001b[1;32mc:\\Users\\jose_\\Escritorio\\Python-Prep\\Prácticas\\Modulo 9 Error Handling\\practica_M9.ipynb Celda 16\u001b[0m line \u001b[0;36m1\n\u001b[0;32m      <a href='vscode-notebook-cell:/c%3A/Users/jose_/Escritorio/Python-Prep/Pr%C3%A1cticas/Modulo%209%20Error%20Handling/practica_M9.ipynb#X23sZmlsZQ%3D%3D?line=8'>9</a>\u001b[0m     \u001b[39mreturn\u001b[39;00m primeras_letras\n\u001b[0;32m     <a href='vscode-notebook-cell:/c%3A/Users/jose_/Escritorio/Python-Prep/Pr%C3%A1cticas/Modulo%209%20Error%20Handling/practica_M9.ipynb#X23sZmlsZQ%3D%3D?line=10'>11</a>\u001b[0m palabras\u001b[39m=\u001b[39m[\u001b[39m'\u001b[39m\u001b[39mHello\u001b[39m\u001b[39m'\u001b[39m,\u001b[39m'\u001b[39m\u001b[39mworld\u001b[39m\u001b[39m'\u001b[39m,\u001b[39m69\u001b[39m]\n\u001b[1;32m---> <a href='vscode-notebook-cell:/c%3A/Users/jose_/Escritorio/Python-Prep/Pr%C3%A1cticas/Modulo%209%20Error%20Handling/practica_M9.ipynb#X23sZmlsZQ%3D%3D?line=12'>13</a>\u001b[0m primera_letra(palabras)\n",
      "\u001b[1;32mc:\\Users\\jose_\\Escritorio\\Python-Prep\\Prácticas\\Modulo 9 Error Handling\\practica_M9.ipynb Celda 16\u001b[0m line \u001b[0;36m5\n\u001b[0;32m      <a href='vscode-notebook-cell:/c%3A/Users/jose_/Escritorio/Python-Prep/Pr%C3%A1cticas/Modulo%209%20Error%20Handling/practica_M9.ipynb#X23sZmlsZQ%3D%3D?line=1'>2</a>\u001b[0m primeras_letras \u001b[39m=\u001b[39m []\n\u001b[0;32m      <a href='vscode-notebook-cell:/c%3A/Users/jose_/Escritorio/Python-Prep/Pr%C3%A1cticas/Modulo%209%20Error%20Handling/practica_M9.ipynb#X23sZmlsZQ%3D%3D?line=3'>4</a>\u001b[0m \u001b[39mfor\u001b[39;00m palabra \u001b[39min\u001b[39;00m lista_de_palabras:\n\u001b[1;32m----> <a href='vscode-notebook-cell:/c%3A/Users/jose_/Escritorio/Python-Prep/Pr%C3%A1cticas/Modulo%209%20Error%20Handling/practica_M9.ipynb#X23sZmlsZQ%3D%3D?line=4'>5</a>\u001b[0m     \u001b[39massert\u001b[39;00m \u001b[39mtype\u001b[39m(palabra) \u001b[39m==\u001b[39m \u001b[39mstr\u001b[39m, \u001b[39mf\u001b[39m\u001b[39m\"\u001b[39m\u001b[39m{\u001b[39;00mpalabra\u001b[39m}\u001b[39;00m\u001b[39m no es str\u001b[39m\u001b[39m\"\u001b[39m\n\u001b[0;32m      <a href='vscode-notebook-cell:/c%3A/Users/jose_/Escritorio/Python-Prep/Pr%C3%A1cticas/Modulo%209%20Error%20Handling/practica_M9.ipynb#X23sZmlsZQ%3D%3D?line=5'>6</a>\u001b[0m     \u001b[39massert\u001b[39;00m \u001b[39mlen\u001b[39m(palabra) \u001b[39m>\u001b[39m \u001b[39m0\u001b[39m, \u001b[39m\"\u001b[39m\u001b[39mNo se permiten str vacíos\u001b[39m\u001b[39m\"\u001b[39m\n\u001b[0;32m      <a href='vscode-notebook-cell:/c%3A/Users/jose_/Escritorio/Python-Prep/Pr%C3%A1cticas/Modulo%209%20Error%20Handling/practica_M9.ipynb#X23sZmlsZQ%3D%3D?line=7'>8</a>\u001b[0m     primeras_letras\u001b[39m.\u001b[39mappend(palabra[\u001b[39m0\u001b[39m])\n",
      "\u001b[1;31mAssertionError\u001b[0m: 69 no es str"
     ]
    }
   ],
   "source": [
    "def primera_letra(lista_de_palabras):\n",
    "    primeras_letras = []\n",
    "\n",
    "    for palabra in lista_de_palabras:\n",
    "        assert type(palabra) == str, f\"{palabra} no es str\"\n",
    "        assert len(palabra) > 0, \"No se permiten str vacíos\"\n",
    "\n",
    "        primeras_letras.append(palabra[0])\n",
    "    return primeras_letras\n",
    "\n",
    "palabras=['Hello','world',69]\n",
    "\n",
    "primera_letra(palabras)"
   ]
  },
  {
   "cell_type": "code",
   "execution_count": null,
   "metadata": {},
   "outputs": [],
   "source": []
  }
 ],
 "metadata": {
  "kernelspec": {
   "display_name": "Python 3",
   "language": "python",
   "name": "python3"
  },
  "language_info": {
   "codemirror_mode": {
    "name": "ipython",
    "version": 3
   },
   "file_extension": ".py",
   "mimetype": "text/x-python",
   "name": "python",
   "nbconvert_exporter": "python",
   "pygments_lexer": "ipython3",
   "version": "3.11.4"
  }
 },
 "nbformat": 4,
 "nbformat_minor": 2
}
