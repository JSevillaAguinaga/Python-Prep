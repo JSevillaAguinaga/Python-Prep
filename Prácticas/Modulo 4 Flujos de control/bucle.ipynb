{
 "cells": [
  {
   "cell_type": "code",
   "execution_count": 1,
   "metadata": {},
   "outputs": [
    {
     "name": "stdout",
     "output_type": "stream",
     "text": [
      "1\n"
     ]
    }
   ],
   "source": [
    "suma=0\n",
    "suma=suma+1\n",
    "print(suma)"
   ]
  },
  {
   "cell_type": "code",
   "execution_count": 2,
   "metadata": {},
   "outputs": [
    {
     "name": "stdout",
     "output_type": "stream",
     "text": [
      "3\n"
     ]
    }
   ],
   "source": [
    "suma=0\n",
    "suma=suma+1\n",
    "suma=suma+2\n",
    "print(suma)"
   ]
  },
  {
   "cell_type": "code",
   "execution_count": 8,
   "metadata": {},
   "outputs": [
    {
     "name": "stdout",
     "output_type": "stream",
     "text": [
      "2\n",
      "3\n",
      "4\n",
      "5\n",
      "6\n"
     ]
    }
   ],
   "source": [
    "numeros=[1,2,3,4,5]\n",
    "for num in numeros:\n",
    "    suma=num+1\n",
    "    print(suma)\n"
   ]
  },
  {
   "cell_type": "code",
   "execution_count": 26,
   "metadata": {},
   "outputs": [
    {
     "name": "stdout",
     "output_type": "stream",
     "text": [
      "2 3 4 5 6 "
     ]
    }
   ],
   "source": [
    "for i in range(1,6):\n",
    "    suma=i+1\n",
    "    print(suma,end=\" \")\n",
    "\n",
    "\n"
   ]
  },
  {
   "cell_type": "code",
   "execution_count": 28,
   "metadata": {},
   "outputs": [
    {
     "name": "stdout",
     "output_type": "stream",
     "text": [
      "Variable de iteración: 1 | Resultado: 2\n",
      "Variable de iteración: 2 | Resultado: 3\n",
      "Variable de iteración: 3 | Resultado: 4\n",
      "Variable de iteración: 4 | Resultado: 5\n",
      "Variable de iteración: 5 | Resultado: 6\n"
     ]
    }
   ],
   "source": [
    "for i in range(1,6):\n",
    "    suma=i+1\n",
    "    print('Variable de iteración:',i,'| Resultado:',suma)"
   ]
  },
  {
   "cell_type": "code",
   "execution_count": 29,
   "metadata": {},
   "outputs": [
    {
     "name": "stdout",
     "output_type": "stream",
     "text": [
      "num 1\n",
      "num 2\n",
      "num 3\n",
      "num 4\n",
      "num 5\n"
     ]
    }
   ],
   "source": [
    "num=1\n",
    "while num<6:\n",
    "    print(\"num\",num)\n",
    "    num=num+1"
   ]
  },
  {
   "cell_type": "code",
   "execution_count": 40,
   "metadata": {},
   "outputs": [
    {
     "name": "stdout",
     "output_type": "stream",
     "text": [
      "2\n",
      "3\n",
      "4\n",
      "5\n",
      "6\n"
     ]
    }
   ],
   "source": [
    "x=1\n",
    "while x<6:\n",
    "    x+=1\n",
    "    print(x)"
   ]
  }
 ],
 "metadata": {
  "kernelspec": {
   "display_name": "Python 3",
   "language": "python",
   "name": "python3"
  },
  "language_info": {
   "codemirror_mode": {
    "name": "ipython",
    "version": 3
   },
   "file_extension": ".py",
   "mimetype": "text/x-python",
   "name": "python",
   "nbconvert_exporter": "python",
   "pygments_lexer": "ipython3",
   "version": "3.11.4"
  }
 },
 "nbformat": 4,
 "nbformat_minor": 2
}
