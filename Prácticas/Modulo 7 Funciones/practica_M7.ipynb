{
 "cells": [
  {
   "cell_type": "markdown",
   "metadata": {},
   "source": [
    "PRACTICAS DEL MODULO 7: FUNCIONES"
   ]
  },
  {
   "cell_type": "markdown",
   "metadata": {},
   "source": [
    "Límites de funciones, declarar y ejecutar, dónde acceder a variables"
   ]
  },
  {
   "cell_type": "code",
   "execution_count": 4,
   "metadata": {},
   "outputs": [
    {
     "data": {
      "text/plain": [
       "20"
      ]
     },
     "execution_count": 4,
     "metadata": {},
     "output_type": "execute_result"
    }
   ],
   "source": [
    "def area_rect(b,h):\n",
    "    area= b*h\n",
    "    return area\n",
    "\n",
    "area_rect(4,5)"
   ]
  },
  {
   "cell_type": "code",
   "execution_count": 4,
   "metadata": {},
   "outputs": [
    {
     "name": "stdout",
     "output_type": "stream",
     "text": [
      "10.0\n"
     ]
    },
    {
     "ename": "NameError",
     "evalue": "name 'divisor' is not defined",
     "output_type": "error",
     "traceback": [
      "\u001b[1;31m---------------------------------------------------------------------------\u001b[0m",
      "\u001b[1;31mNameError\u001b[0m                                 Traceback (most recent call last)",
      "\u001b[1;32mc:\\Users\\jose_\\OneDrive\\Escritorio\\Python-Prep\\Prácticas\\Modulo 7 Funciones\\practica_M7.ipynb Celda 4\u001b[0m line \u001b[0;36m8\n\u001b[0;32m      <a href='vscode-notebook-cell:/c%3A/Users/jose_/OneDrive/Escritorio/Python-Prep/Pr%C3%A1cticas/Modulo%207%20Funciones/practica_M7.ipynb#W3sZmlsZQ%3D%3D?line=4'>5</a>\u001b[0m         \u001b[39mreturn\u001b[39;00m dividendo\u001b[39m/\u001b[39mdivisor\n\u001b[0;32m      <a href='vscode-notebook-cell:/c%3A/Users/jose_/OneDrive/Escritorio/Python-Prep/Pr%C3%A1cticas/Modulo%207%20Funciones/practica_M7.ipynb#W3sZmlsZQ%3D%3D?line=6'>7</a>\u001b[0m \u001b[39mprint\u001b[39m(dividir(\u001b[39m10\u001b[39m))\n\u001b[1;32m----> <a href='vscode-notebook-cell:/c%3A/Users/jose_/OneDrive/Escritorio/Python-Prep/Pr%C3%A1cticas/Modulo%207%20Funciones/practica_M7.ipynb#W3sZmlsZQ%3D%3D?line=7'>8</a>\u001b[0m \u001b[39mprint\u001b[39m(divisor)\n",
      "\u001b[1;31mNameError\u001b[0m: name 'divisor' is not defined"
     ]
    }
   ],
   "source": [
    "def dividir(dividendo,divisor=1):\n",
    "    if divisor==0:\n",
    "        return 'No se puede dividir entre 0'\n",
    "    else:\n",
    "        return dividendo/divisor\n",
    "    \n",
    "print(dividir(10))\n",
    "print(divisor)"
   ]
  },
  {
   "cell_type": "code",
   "execution_count": 8,
   "metadata": {},
   "outputs": [
    {
     "name": "stdout",
     "output_type": "stream",
     "text": [
      "2.0\n",
      "5\n"
     ]
    }
   ],
   "source": [
    "divisor=5\n",
    "\n",
    "def dividir(dividendo):\n",
    "    if divisor==0:\n",
    "        return 'No se puede dividir entre 0'\n",
    "    else:\n",
    "        return dividendo/divisor\n",
    "\n",
    "print(dividir(10))\n",
    "print(divisor)"
   ]
  },
  {
   "cell_type": "code",
   "execution_count": 10,
   "metadata": {},
   "outputs": [
    {
     "name": "stdout",
     "output_type": "stream",
     "text": [
      "10.0\n",
      "5\n"
     ]
    }
   ],
   "source": [
    "divisor=5\n",
    "\n",
    "def dividir(dividendo,divisor=1):\n",
    "    if divisor==0:\n",
    "        return 'No se puede dividir entre 0'\n",
    "    else:\n",
    "        return dividendo/divisor\n",
    "\n",
    "print(dividir(10))\n",
    "print(divisor)"
   ]
  },
  {
   "cell_type": "markdown",
   "metadata": {},
   "source": [
    "Recursividad"
   ]
  },
  {
   "cell_type": "code",
   "execution_count": 16,
   "metadata": {},
   "outputs": [
    {
     "data": {
      "text/plain": [
       "120"
      ]
     },
     "execution_count": 16,
     "metadata": {},
     "output_type": "execute_result"
    }
   ],
   "source": [
    "def factorial(numero):\n",
    "    if numero>1:\n",
    "        numero=numero*factorial(numero-1)\n",
    "    return numero\n",
    "\n",
    "factorial(5)    #5x4x3x2x1"
   ]
  },
  {
   "cell_type": "code",
   "execution_count": 1,
   "metadata": {},
   "outputs": [
    {
     "name": "stdout",
     "output_type": "stream",
     "text": [
      "Help on built-in function print in module builtins:\n",
      "\n",
      "print(*args, sep=' ', end='\\n', file=None, flush=False)\n",
      "    Prints the values to a stream, or to sys.stdout by default.\n",
      "    \n",
      "    sep\n",
      "      string inserted between values, default a space.\n",
      "    end\n",
      "      string appended after the last value, default a newline.\n",
      "    file\n",
      "      a file-like object (stream); defaults to the current sys.stdout.\n",
      "    flush\n",
      "      whether to forcibly flush the stream.\n",
      "\n"
     ]
    }
   ],
   "source": [
    "help(print)"
   ]
  },
  {
   "cell_type": "code",
   "execution_count": 6,
   "metadata": {},
   "outputs": [
    {
     "data": {
      "text/plain": [
       "120"
      ]
     },
     "execution_count": 6,
     "metadata": {},
     "output_type": "execute_result"
    }
   ],
   "source": [
    "def factorial(numero):\n",
    "    '''Calcula el factorial de un número'''\n",
    "    if numero > 1:\n",
    "        numero = numero * factorial(numero - 1)\n",
    "    return numero\n",
    "\n",
    "factorial(5)  # 5x4x3x2x1"
   ]
  },
  {
   "cell_type": "code",
   "execution_count": 5,
   "metadata": {},
   "outputs": [
    {
     "name": "stdout",
     "output_type": "stream",
     "text": [
      "Help on function factorial in module __main__:\n",
      "\n",
      "factorial(numero)\n",
      "    Calcula el factorial de un número\n",
      "\n"
     ]
    }
   ],
   "source": [
    "help(factorial)"
   ]
  },
  {
   "cell_type": "markdown",
   "metadata": {},
   "source": [
    "Pasajes de parámetros por valor y referencia y Funciones Lambda"
   ]
  },
  {
   "cell_type": "code",
   "execution_count": 10,
   "metadata": {},
   "outputs": [
    {
     "name": "stdout",
     "output_type": "stream",
     "text": [
      "10\n"
     ]
    }
   ],
   "source": [
    "x=10\n",
    "def funcion(entrada):\n",
    "    entrada=0\n",
    "\n",
    "funcion(x)\n",
    "print(x)"
   ]
  },
  {
   "cell_type": "code",
   "execution_count": 11,
   "metadata": {},
   "outputs": [
    {
     "name": "stdout",
     "output_type": "stream",
     "text": [
      "[10, 20, 30, 40]\n"
     ]
    }
   ],
   "source": [
    "x=[10,20,30]\n",
    "def funcion(entrada):\n",
    "    entrada.append(40)\n",
    "\n",
    "funcion(x)\n",
    "print(x)"
   ]
  },
  {
   "cell_type": "code",
   "execution_count": 12,
   "metadata": {},
   "outputs": [
    {
     "name": "stdout",
     "output_type": "stream",
     "text": [
      "[10, 20, 30]\n"
     ]
    }
   ],
   "source": [
    "x=[10,20,30]\n",
    "def funcion(entrada):\n",
    "    entrada=[]\n",
    "\n",
    "funcion(x)\n",
    "print(x)"
   ]
  },
  {
   "cell_type": "code",
   "execution_count": 13,
   "metadata": {},
   "outputs": [
    {
     "name": "stdout",
     "output_type": "stream",
     "text": [
      "140711461315656\n"
     ]
    }
   ],
   "source": [
    "x=10\n",
    "print(id(x))"
   ]
  },
  {
   "cell_type": "code",
   "execution_count": 14,
   "metadata": {},
   "outputs": [
    {
     "name": "stdout",
     "output_type": "stream",
     "text": [
      "140711461315336\n"
     ]
    }
   ],
   "source": [
    "def funcion(entrada):\n",
    "    entrada=0\n",
    "    print(id(entrada))\n",
    "funcion(x)\n"
   ]
  },
  {
   "cell_type": "code",
   "execution_count": 15,
   "metadata": {},
   "outputs": [
    {
     "name": "stdout",
     "output_type": "stream",
     "text": [
      "10\n"
     ]
    }
   ],
   "source": [
    "print(x)"
   ]
  },
  {
   "cell_type": "code",
   "execution_count": 20,
   "metadata": {},
   "outputs": [
    {
     "name": "stdout",
     "output_type": "stream",
     "text": [
      "2028718633664\n"
     ]
    }
   ],
   "source": [
    "x=[10,20,30]\n",
    "print(id(x))"
   ]
  },
  {
   "cell_type": "code",
   "execution_count": 21,
   "metadata": {},
   "outputs": [
    {
     "name": "stdout",
     "output_type": "stream",
     "text": [
      "2028718633664\n"
     ]
    }
   ],
   "source": [
    "def funcion(entrada):\n",
    "    entrada.append(40)\n",
    "    print(id(entrada))\n",
    "funcion(x)"
   ]
  },
  {
   "cell_type": "code",
   "execution_count": 1,
   "metadata": {},
   "outputs": [
    {
     "data": {
      "text/plain": [
       "12"
      ]
     },
     "execution_count": 1,
     "metadata": {},
     "output_type": "execute_result"
    }
   ],
   "source": [
    "lambda_producto = lambda x, y: x * y\n",
    "\n",
    "lambda_producto(3, 4)"
   ]
  },
  {
   "cell_type": "markdown",
   "metadata": {},
   "source": [
    "Mis códigos"
   ]
  },
  {
   "cell_type": "code",
   "execution_count": null,
   "metadata": {},
   "outputs": [],
   "source": [
    "def conversion_temperatura(valor, medida_o, medida_d):\n",
    "    if medida_o == \"C\" and medida_d == \"F\":\n",
    "        resultado = (valor * 9 / 5) + 32\n",
    "    elif medida_o == \"C\" and medida_d == \"K\":\n",
    "        resultado = valor + 273.15\n",
    "    elif medida_o == \"F\" and medida_d == \"C\":\n",
    "        resultado = 5 / 9 * (valor - 32)\n",
    "    elif medida_o == \"F\" and medida_d == \"K\":\n",
    "        resultado = 5 / 9 * (valor - 32) + 273.15\n",
    "    elif medida_o == \"K\" and medida_d == \"C\":\n",
    "        resultado = valor - 273.15\n",
    "    elif medida_o == \"K\" and medida_d == \"F\":\n",
    "        resultado = (9 / 5) * (valor - 273.15) + 32\n",
    "    elif medida_o == medida_d:\n",
    "        resultado = valor\n",
    "    return round(resultado, 2)\n",
    "\n",
    "conversion_temperatura(-10, \"C\", \"K\")"
   ]
  },
  {
   "cell_type": "code",
   "execution_count": null,
   "metadata": {},
   "outputs": [],
   "source": [
    "def factorial(num):\n",
    "    if type(num) != int or num < 0:\n",
    "        return print(\"Solo se puede ingresar numeros enteros.\")\n",
    "    elif num == 0:\n",
    "        return 1\n",
    "    else:\n",
    "        num = num * factorial(num - 1)\n",
    "        return num"
   ]
  },
  {
   "cell_type": "code",
   "execution_count": null,
   "metadata": {},
   "outputs": [],
   "source": [
    "def enlistar_primos(listas):\n",
    "    lista_primos = []\n",
    "    for num in listas:\n",
    "        divisor = 2\n",
    "        primo = True\n",
    "        while num > divisor:\n",
    "            r = num % divisor\n",
    "            divisor += 1\n",
    "            if r == 0:\n",
    "                primo = False\n",
    "        if primo and num > 1:\n",
    "            lista_primos.append(num)\n",
    "    return lista_primos\n",
    "\n",
    "\n",
    "lista_numeros = list(range(1, 70))\n",
    "\n",
    "enlistar_primos(lista_numeros)"
   ]
  }
 ],
 "metadata": {
  "kernelspec": {
   "display_name": "Python 3",
   "language": "python",
   "name": "python3"
  },
  "language_info": {
   "codemirror_mode": {
    "name": "ipython",
    "version": 3
   },
   "file_extension": ".py",
   "mimetype": "text/x-python",
   "name": "python",
   "nbconvert_exporter": "python",
   "pygments_lexer": "ipython3",
   "version": "3.11.4"
  }
 },
 "nbformat": 4,
 "nbformat_minor": 2
}
