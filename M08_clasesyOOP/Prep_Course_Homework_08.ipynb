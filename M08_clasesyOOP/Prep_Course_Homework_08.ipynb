{
 "cells": [
  {
   "attachments": {},
   "cell_type": "markdown",
   "metadata": {},
   "source": [
    "## Clases y Programación Orientada a Objetos"
   ]
  },
  {
   "attachments": {},
   "cell_type": "markdown",
   "metadata": {},
   "source": [
    "1) Crear la clase vehículo que contenga los atributos:<br>\n",
    "Color<br>\n",
    "Si es moto, auto, camioneta ó camión<br>\n",
    "Cilindrada del motor"
   ]
  },
  {
   "cell_type": "code",
   "execution_count": 3,
   "metadata": {},
   "outputs": [],
   "source": [
    "class Vehiculo:\n",
    "    def __init__(self, color, tipo, cil_motor):\n",
    "        self.color = color\n",
    "        self.tipo = tipo\n",
    "        self.cil_motor = cil_motor"
   ]
  },
  {
   "attachments": {},
   "cell_type": "markdown",
   "metadata": {},
   "source": [
    "2) A la clase Vehiculo creada en el punto 1, agregar los siguientes métodos:<br>\n",
    "Acelerar<br>\n",
    "Frenar<br>\n",
    "Doblar<br>"
   ]
  },
  {
   "cell_type": "code",
   "execution_count": 33,
   "metadata": {},
   "outputs": [],
   "source": [
    "class Vehiculo:\n",
    "    def __init__(self, color, tipo, cil_motor):\n",
    "        self.color = color\n",
    "        self.tipo = tipo\n",
    "        self.cil_motor = cil_motor\n",
    "        self.velocidad = 0\n",
    "        self.direccion = 0\n",
    "\n",
    "    def acelerar(self, veloc):\n",
    "        self.velocidad += veloc\n",
    "        print(\n",
    "            f\"{self.tipo} acelera a {self.velocidad} km/h\"\n",
    "        )\n",
    "\n",
    "    def frenar(self, veloc):\n",
    "        self.velocidad -= veloc\n",
    "        print(\n",
    "            f\"{self.tipo} frena en {veloc} km/h\"\n",
    "        )\n",
    "\n",
    "    def doblar(self, grados):\n",
    "        self.direccion += grados\n",
    "        print(\n",
    "            f\"{self.tipo} dobla {self.direccion}°\"\n",
    "        )\n",
    "    def estado(self):\n",
    "        print(f'{self.tipo} actualmente está a {self.velocidad} km/h y ha doblado {self.direccion}°')\n",
    "\n",
    "    def caracteristicas(self):\n",
    "        print(\n",
    "            f\"Color: {self.color}\"\n",
    "            f\"\\nTipo: {self.tipo}\"\n",
    "            f\"\\nCilindrada: {self.cil_motor} L\"\n",
    "        )"
   ]
  },
  {
   "attachments": {},
   "cell_type": "markdown",
   "metadata": {},
   "source": [
    "3) Instanciar 3 objetos de la clase vehículo y ejecutar sus métodos, probar luego el resultado"
   ]
  },
  {
   "cell_type": "code",
   "execution_count": 25,
   "metadata": {},
   "outputs": [
    {
     "name": "stdout",
     "output_type": "stream",
     "text": [
      "moto acelera a 10 km/h\n",
      "moto frena a 5 km/h\n",
      "moto dobla 20°\n",
      "auto acelera a 30 km/h\n",
      "auto frena a 20 km/h\n",
      "auto dobla 90°\n",
      "camioneta acelera a 50 km/h\n",
      "camioneta frena a 25 km/h\n",
      "camioneta dobla 5°\n"
     ]
    }
   ],
   "source": [
    "moto = Vehiculo(\"azul\", \"moto\", \"16\")\n",
    "moto.acelerar(10)\n",
    "moto.frenar(5)\n",
    "moto.doblar(20)\n",
    "\n",
    "auto = Vehiculo(\"rojo\", \"auto\", \"15\")\n",
    "auto.acelerar(30)\n",
    "auto.frenar(10)\n",
    "auto.doblar(90)\n",
    "\n",
    "camioneta = Vehiculo(\"amarillo patito\", \"camioneta\", \"20\")\n",
    "camioneta.acelerar(50)\n",
    "camioneta.frenar(25)\n",
    "camioneta.doblar(5)"
   ]
  },
  {
   "attachments": {},
   "cell_type": "markdown",
   "metadata": {},
   "source": [
    "4) Agregar a la clase Vehiculo, un método que muestre su estado, es decir, a que velocidad se encuentra y su dirección. Y otro método que muestre color, tipo y cilindrada"
   ]
  },
  {
   "cell_type": "code",
   "execution_count": 34,
   "metadata": {},
   "outputs": [
    {
     "name": "stdout",
     "output_type": "stream",
     "text": [
      "camión acelera a 100 km/h\n",
      "camión frena en 20 km/h\n",
      "camión dobla 60°\n",
      "camión actualmente está a 80 km/h y ha doblado 60°\n",
      "Color: blanco\n",
      "Tipo: camión\n",
      "Cilindrada: 5 L\n"
     ]
    }
   ],
   "source": [
    "camion=Vehiculo('blanco','camión','5')\n",
    "\n",
    "camion.acelerar(100)\n",
    "camion.frenar(20)\n",
    "camion.doblar(60)\n",
    "camion.estado()\n",
    "camion.caracteristicas()"
   ]
  },
  {
   "attachments": {},
   "cell_type": "markdown",
   "metadata": {},
   "source": [
    "5) Crear una clase que permita utilizar las funciones creadas en la práctica del módulo 7<br>\n",
    "Verificar Primo<br>\n",
    "Valor modal<br>\n",
    "Conversión grados<br>\n",
    "Factorial<br>"
   ]
  },
  {
   "cell_type": "code",
   "execution_count": 84,
   "metadata": {},
   "outputs": [],
   "source": [
    "class Funciones:\n",
    "    def __init__(self) -> None:\n",
    "        pass\n",
    "    # Función 'Verificar primo'\n",
    "    def sera_primo(self,num):\n",
    "        divisor = 2\n",
    "        primo = True\n",
    "        while num > divisor:\n",
    "            r = num % divisor\n",
    "            divisor += 1\n",
    "            if r == 0:\n",
    "                primo = False\n",
    "                break\n",
    "        if primo and num > 1:\n",
    "            return True\n",
    "        else:\n",
    "            return False\n",
    "\n",
    "    # Función \"valor modal\"\n",
    "    def repeticiones(self,p_listas):\n",
    "        mas_repetido = max(p_listas, key=p_listas.count)\n",
    "        reps = p_listas.count(mas_repetido)\n",
    "        print(f\"{mas_repetido}, {reps}\")\n",
    "\n",
    "    # Función \"Conversión grados\"\n",
    "    def conversion_temperatura(self,valor, medida_o, medida_d):\n",
    "        if medida_o == \"C\" and valor >= -273.15:\n",
    "            if medida_d == \"F\":\n",
    "                resultado = (valor * 9 / 5) + 32\n",
    "            elif medida_d == \"K\":\n",
    "                resultado = valor + 273.15\n",
    "            elif medida_d == \"C\":\n",
    "                resultado = valor\n",
    "            else:\n",
    "                return print(\"Tempreratura de destino no es correcta\")\n",
    "        elif medida_o == \"F\" and valor >= -459.67:\n",
    "            if medida_d == \"C\":\n",
    "                resultado = 5 / 9 * (valor - 32)\n",
    "            elif medida_d == \"K\":\n",
    "                resultado = 5 / 9 * (valor - 32) + 273.15\n",
    "            elif medida_d == \"F\":\n",
    "                resultado = valor\n",
    "            else:\n",
    "                return print(\"Tempreratura de destino no es correcta\")\n",
    "        elif medida_o == \"K\" and valor >= 0:\n",
    "            if medida_d == \"C\":\n",
    "                resultado = valor - 273.15\n",
    "            elif medida_d == \"F\":\n",
    "                resultado = (9 / 5) * (valor - 273.15) + 32\n",
    "            elif medida_d == \"K\":\n",
    "                resultado = valor\n",
    "            else:\n",
    "                return print(\"Tempreratura de destino no es correcta\")\n",
    "        else:\n",
    "            return print(\n",
    "                f\"Valor ingresado para la medida °{medida_o} no es válido. El límite más bajo de temperatura es 0°K, -273.15°C o -459.67°F.\"\n",
    "            )\n",
    "        return round(resultado, 2)\n",
    "\n",
    "    # Función \"Factorial\"\n",
    "    def factorial(self,num):\n",
    "        if type(num) == int and num > 0:\n",
    "            num = num * factorial(num - 1)\n",
    "            return num\n",
    "        elif num == 0:\n",
    "            return 1\n",
    "        else:\n",
    "            return print(\"Solo se puede ingresar números positivos.\")"
   ]
  },
  {
   "attachments": {},
   "cell_type": "markdown",
   "metadata": {},
   "source": [
    "6) Probar las funciones incorporadas en la clase del punto 5"
   ]
  },
  {
   "cell_type": "code",
   "execution_count": 62,
   "metadata": {},
   "outputs": [
    {
     "name": "stdout",
     "output_type": "stream",
     "text": [
      "False\n",
      "2, 4\n",
      "-273.15\n"
     ]
    },
    {
     "data": {
      "text/plain": [
       "5040"
      ]
     },
     "execution_count": 62,
     "metadata": {},
     "output_type": "execute_result"
    }
   ],
   "source": [
    "prueba = Funciones()\n",
    "\n",
    "print(prueba.sera_primo(21))\n",
    "prueba.repeticiones([1,2,3,4,5,1,2,2,2])\n",
    "print(prueba.conversion_temperatura(0,'K','C'))\n",
    "prueba.factorial(7)"
   ]
  },
  {
   "attachments": {},
   "cell_type": "markdown",
   "metadata": {},
   "source": [
    "7) Es necesario que la clase creada en el punto 5 contenga una lista, sobre la cual se apliquen las funciones incorporadas"
   ]
  },
  {
   "cell_type": "code",
   "execution_count": 60,
   "metadata": {},
   "outputs": [],
   "source": [
    "class Funciones:\n",
    "    def __init__(self, lista_fun):\n",
    "        self.lista_fun = lista_fun\n",
    "\n",
    "    # Función 'Verificar primo'\n",
    "    def sera_primo(self, num):\n",
    "        divisor = 2\n",
    "        primo = True\n",
    "        while num > divisor:\n",
    "            r = num % divisor\n",
    "            divisor += 1\n",
    "            if r == 0:\n",
    "                primo = False\n",
    "                break\n",
    "        if primo and num > 1:\n",
    "            return True\n",
    "        else:\n",
    "            return False\n",
    "\n",
    "    # Función de verificación de primos para listas\n",
    "    def lista_primos(self):\n",
    "        for i in self.lista_fun:\n",
    "            if self.sera_primo(i) == True:\n",
    "                print(f\"El número {i} es primo.\")\n",
    "            else:\n",
    "                print(f\"El número {i} no es primo.\")\n",
    "\n",
    "    # Función para contar repeticiones de un número\n",
    "    def repeticiones(self, p_listas):\n",
    "        mas_repetido = max(p_listas, key=p_listas.count)\n",
    "        reps = p_listas.count(mas_repetido)\n",
    "        print(f\"{mas_repetido}, {reps}\")\n",
    "\n",
    "    # Función para contar repeticiones de un número, con lista de la clase\n",
    "    def mas_repetido(self):\n",
    "        lista_unicos = []\n",
    "        lista_reps = []\n",
    "        if len(self.lista_fun) != 0:\n",
    "            for j in self.lista_fun:\n",
    "                if j not in lista_unicos:\n",
    "                    lista_unicos.append(j)\n",
    "                    lista_reps.append(self.lista_fun.count(j))\n",
    "            mas_rep = lista_unicos[lista_reps.index(max(lista_reps))]\n",
    "            reps = max(lista_reps)\n",
    "            return mas_rep, reps  # print(f\"{mas_rep}, {reps}\")\n",
    "        else:\n",
    "            return print(\"La lista está vacía\")\n",
    "\n",
    "    def imprimir_reps(self):\n",
    "        for i in self.lista_funciones:\n",
    "            if self.lista_funciones.count(i) > 1:\n",
    "                continue\n",
    "\n",
    "    # Función \"Conversión grados\"\n",
    "    def conversion_temperatura(self, valor, medida_o, medida_d):\n",
    "        if medida_o == \"C\" and valor >= -273.15:\n",
    "            if medida_d == \"F\":\n",
    "                resultado = (valor * 9 / 5) + 32\n",
    "            elif medida_d == \"K\":\n",
    "                resultado = valor + 273.15\n",
    "            elif medida_d == \"C\":\n",
    "                resultado = valor\n",
    "            else:\n",
    "                return print(\"Tempreratura de destino no es correcta\")\n",
    "        elif medida_o == \"F\" and valor >= -459.67:\n",
    "            if medida_d == \"C\":\n",
    "                resultado = 5 / 9 * (valor - 32)\n",
    "            elif medida_d == \"K\":\n",
    "                resultado = 5 / 9 * (valor - 32) + 273.15\n",
    "            elif medida_d == \"F\":\n",
    "                resultado = valor\n",
    "            else:\n",
    "                return print(\"Tempreratura de destino no es correcta\")\n",
    "        elif medida_o == \"K\" and valor >= 0:\n",
    "            if medida_d == \"C\":\n",
    "                resultado = valor - 273.15\n",
    "            elif medida_d == \"F\":\n",
    "                resultado = (9 / 5) * (valor - 273.15) + 32\n",
    "            elif medida_d == \"K\":\n",
    "                resultado = valor\n",
    "            else:\n",
    "                return print(\"Tempreratura de destino no es correcta\")\n",
    "        else:\n",
    "            return print(\n",
    "                f\"Valor ingresado para la medida °{medida_o} no es válido. El límite más bajo de temperatura es 0°K, -273.15°C o -459.67°F.\"\n",
    "            )\n",
    "        return round(resultado, 2)\n",
    "\n",
    "    # Función \"todos_grados\"\n",
    "    def todos_grados(self):\n",
    "        for i in self.lista_fun:\n",
    "            for t1 in list(['C','F','K']):\n",
    "                print(f'{i}°{t1} es equivalente a:')\n",
    "                for t2 in list(['C','F','K']):\n",
    "                    if t1==t2:\n",
    "                        continue\n",
    "                    else:\n",
    "                        print(f'✅{self.conversion_temperatura(i,t1,t2)}°{t2}')\n",
    "\n",
    "    # Función \"Factorial\"\n",
    "    def factorial(self, num):\n",
    "        if type(num) == int and num > 0:\n",
    "            num = num * self.factorial(num - 1)\n",
    "            return num\n",
    "        elif num == 0:\n",
    "            return 1\n",
    "        else:\n",
    "            return print(\"Solo se puede ingresar números enteros no negativos.\")\n",
    "    \n",
    "    def factorial_todo(self):\n",
    "        for i in self.lista_fun:\n",
    "            print(f'El factorial de {i} es {self.factorial(i)}')"
   ]
  },
  {
   "cell_type": "markdown",
   "metadata": {},
   "source": [
    "Creamos la lista de prueba:"
   ]
  },
  {
   "cell_type": "code",
   "execution_count": 85,
   "metadata": {},
   "outputs": [],
   "source": [
    "lista_prueba=[53,1,2,8,3,4,4,4,5]"
   ]
  },
  {
   "cell_type": "markdown",
   "metadata": {},
   "source": [
    "Prueba de función 'lista_primos'"
   ]
  },
  {
   "cell_type": "code",
   "execution_count": 86,
   "metadata": {},
   "outputs": [
    {
     "name": "stdout",
     "output_type": "stream",
     "text": [
      "El número 53 es primo.\n",
      "El número 1 no es primo.\n",
      "El número 2 es primo.\n",
      "El número 8 no es primo.\n",
      "El número 3 es primo.\n",
      "El número 4 no es primo.\n",
      "El número 4 no es primo.\n",
      "El número 4 no es primo.\n",
      "El número 5 es primo.\n"
     ]
    }
   ],
   "source": [
    "practica_lista1 = Funciones(lista_prueba)\n",
    "practica_lista1.lista_primos()"
   ]
  },
  {
   "cell_type": "markdown",
   "metadata": {},
   "source": [
    "Prueba de función 'repeticiones'"
   ]
  },
  {
   "cell_type": "code",
   "execution_count": 87,
   "metadata": {},
   "outputs": [
    {
     "name": "stdout",
     "output_type": "stream",
     "text": [
      "El número 4 es la moda y se repite 3 veces.\n"
     ]
    }
   ],
   "source": [
    "practica_lista2 = Funciones(lista_prueba)\n",
    "moda, repes=practica_lista2.mas_repetido()\n",
    "print(f'El número {moda} es la moda y se repite {repes} veces.')"
   ]
  },
  {
   "cell_type": "markdown",
   "metadata": {},
   "source": [
    "Prueba de función \"todos_grados\""
   ]
  },
  {
   "cell_type": "code",
   "execution_count": 88,
   "metadata": {},
   "outputs": [
    {
     "name": "stdout",
     "output_type": "stream",
     "text": [
      "53°C es equivalente a:\n",
      "✅127.4°F\n",
      "✅326.15°K\n",
      "53°F es equivalente a:\n",
      "✅11.67°C\n",
      "✅284.82°K\n",
      "53°K es equivalente a:\n",
      "✅-220.15°C\n",
      "✅-364.27°F\n",
      "1°C es equivalente a:\n",
      "✅33.8°F\n",
      "✅274.15°K\n",
      "1°F es equivalente a:\n",
      "✅-17.22°C\n",
      "✅255.93°K\n",
      "1°K es equivalente a:\n",
      "✅-272.15°C\n",
      "✅-457.87°F\n",
      "2°C es equivalente a:\n",
      "✅35.6°F\n",
      "✅275.15°K\n",
      "2°F es equivalente a:\n",
      "✅-16.67°C\n",
      "✅256.48°K\n",
      "2°K es equivalente a:\n",
      "✅-271.15°C\n",
      "✅-456.07°F\n",
      "8°C es equivalente a:\n",
      "✅46.4°F\n",
      "✅281.15°K\n",
      "8°F es equivalente a:\n",
      "✅-13.33°C\n",
      "✅259.82°K\n",
      "8°K es equivalente a:\n",
      "✅-265.15°C\n",
      "✅-445.27°F\n",
      "3°C es equivalente a:\n",
      "✅37.4°F\n",
      "✅276.15°K\n",
      "3°F es equivalente a:\n",
      "✅-16.11°C\n",
      "✅257.04°K\n",
      "3°K es equivalente a:\n",
      "✅-270.15°C\n",
      "✅-454.27°F\n",
      "4°C es equivalente a:\n",
      "✅39.2°F\n",
      "✅277.15°K\n",
      "4°F es equivalente a:\n",
      "✅-15.56°C\n",
      "✅257.59°K\n",
      "4°K es equivalente a:\n",
      "✅-269.15°C\n",
      "✅-452.47°F\n",
      "4°C es equivalente a:\n",
      "✅39.2°F\n",
      "✅277.15°K\n",
      "4°F es equivalente a:\n",
      "✅-15.56°C\n",
      "✅257.59°K\n",
      "4°K es equivalente a:\n",
      "✅-269.15°C\n",
      "✅-452.47°F\n",
      "4°C es equivalente a:\n",
      "✅39.2°F\n",
      "✅277.15°K\n",
      "4°F es equivalente a:\n",
      "✅-15.56°C\n",
      "✅257.59°K\n",
      "4°K es equivalente a:\n",
      "✅-269.15°C\n",
      "✅-452.47°F\n",
      "5°C es equivalente a:\n",
      "✅41.0°F\n",
      "✅278.15°K\n",
      "5°F es equivalente a:\n",
      "✅-15.0°C\n",
      "✅258.15°K\n",
      "5°K es equivalente a:\n",
      "✅-268.15°C\n",
      "✅-450.67°F\n"
     ]
    }
   ],
   "source": [
    "practica_lista3=Funciones(lista_prueba)\n",
    "practica_lista3.todos_grados()\n"
   ]
  },
  {
   "cell_type": "markdown",
   "metadata": {},
   "source": [
    "Prueba de función \"factorial_todo\""
   ]
  },
  {
   "cell_type": "code",
   "execution_count": 89,
   "metadata": {},
   "outputs": [
    {
     "name": "stdout",
     "output_type": "stream",
     "text": [
      "El factorial de 53 es 4274883284060025564298013753389399649690343788366813724672000000000000\n",
      "El factorial de 1 es 1\n",
      "El factorial de 2 es 2\n",
      "El factorial de 8 es 40320\n",
      "El factorial de 3 es 6\n",
      "El factorial de 4 es 24\n",
      "El factorial de 4 es 24\n",
      "El factorial de 4 es 24\n",
      "El factorial de 5 es 120\n"
     ]
    }
   ],
   "source": [
    "practica_lista4 = Funciones(lista_prueba)\n",
    "practica_lista4.factorial_todo()"
   ]
  },
  {
   "attachments": {},
   "cell_type": "markdown",
   "metadata": {},
   "source": [
    "8) Crear un archivo .py aparte y ubicar allí la clase generada en el punto anterior. Luego realizar la importación del módulo y probar alguna de sus funciones"
   ]
  },
  {
   "cell_type": "code",
   "execution_count": 90,
   "metadata": {},
   "outputs": [
    {
     "name": "stdout",
     "output_type": "stream",
     "text": [
      "El número 1 no es primo.\n",
      "El número 2 es primo.\n",
      "El número 3 es primo.\n",
      "El número 4 no es primo.\n",
      "El número 5 es primo.\n",
      "El número 6 no es primo.\n",
      "El número 7 es primo.\n",
      "El número 8 no es primo.\n",
      "El número 9 no es primo.\n"
     ]
    }
   ],
   "source": [
    "from funciones_ClassFunciones import *\n",
    "\n",
    "prueba=Funciones(list(range(1,10)))\n",
    "\n",
    "prueba.lista_primos()"
   ]
  }
 ],
 "metadata": {
  "interpreter": {
   "hash": "c85384e4cb51c8b72350f3a8712cc8351fdc3955e32a27f9b60c6242ab125f01"
  },
  "kernelspec": {
   "display_name": "Python 3 (ipykernel)",
   "language": "python",
   "name": "python3"
  },
  "language_info": {
   "codemirror_mode": {
    "name": "ipython",
    "version": 3
   },
   "file_extension": ".py",
   "mimetype": "text/x-python",
   "name": "python",
   "nbconvert_exporter": "python",
   "pygments_lexer": "ipython3",
   "version": "3.11.4"
  }
 },
 "nbformat": 4,
 "nbformat_minor": 4
}
