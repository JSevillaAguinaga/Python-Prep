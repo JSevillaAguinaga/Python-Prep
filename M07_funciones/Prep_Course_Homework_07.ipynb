{
 "cells": [
  {
   "attachments": {},
   "cell_type": "markdown",
   "metadata": {},
   "source": [
    "## Funciones"
   ]
  },
  {
   "attachments": {},
   "cell_type": "markdown",
   "metadata": {},
   "source": [
    "1) Crear una función que reciba un número como parámetro y devuelva True si es primo y False si no lo es"
   ]
  },
  {
   "cell_type": "code",
   "execution_count": 46,
   "metadata": {},
   "outputs": [
    {
     "data": {
      "text/plain": [
       "True"
      ]
     },
     "execution_count": 46,
     "metadata": {},
     "output_type": "execute_result"
    }
   ],
   "source": [
    "def sera_primo(num):\n",
    "    divisor = 2\n",
    "    primo = True\n",
    "    while num > divisor:\n",
    "        r = num % divisor\n",
    "        divisor += 1\n",
    "        if r == 0:\n",
    "            primo = False\n",
    "            break\n",
    "    if primo and num > 1:\n",
    "        return True\n",
    "    else:\n",
    "        return False\n",
    "\n",
    "sera_primo(29)"
   ]
  },
  {
   "attachments": {},
   "cell_type": "markdown",
   "metadata": {},
   "source": [
    "2) Utilizando la función del punto 1, realizar otra función que reciba de parámetro una lista de números y devuelva sólo aquellos que son primos en otra lista"
   ]
  },
  {
   "cell_type": "code",
   "execution_count": 53,
   "metadata": {},
   "outputs": [
    {
     "data": {
      "text/plain": [
       "[2, 3, 5, 7, 11, 13, 17, 19, 23, 29, 31, 37, 41, 43, 47, 53, 59, 61, 67]"
      ]
     },
     "execution_count": 53,
     "metadata": {},
     "output_type": "execute_result"
    }
   ],
   "source": [
    "def enlistar_primos(listas):\n",
    "    lista_primos = []\n",
    "    for num in listas:\n",
    "        if sera_primo(num)==True:\n",
    "            lista_primos.append(num)\n",
    "    return lista_primos\n",
    "\n",
    "lista_numeros = list(range(1, 70))\n",
    "\n",
    "enlistar_primos(lista_numeros)"
   ]
  },
  {
   "attachments": {},
   "cell_type": "markdown",
   "metadata": {},
   "source": [
    "3) Crear una función que al recibir una lista de números, devuelva el que más se repite y cuántas veces lo hace. Si hay más de un \"más repetido\", que devuelva cualquiera"
   ]
  },
  {
   "cell_type": "code",
   "execution_count": 46,
   "metadata": {},
   "outputs": [
    {
     "name": "stdout",
     "output_type": "stream",
     "text": [
      "1, 5\n"
     ]
    }
   ],
   "source": [
    "lista=[1,1,1,1,1,2,2,2,2,2,3,3,4]\n",
    "\n",
    "def repeticiones(p_listas):\n",
    "    mas_repetido=max(p_listas,key=p_listas.count)\n",
    "    reps=p_listas.count(mas_repetido)\n",
    "    print(f'{mas_repetido}, {reps}')\n",
    "\n",
    "repeticiones(lista)"
   ]
  },
  {
   "attachments": {},
   "cell_type": "markdown",
   "metadata": {},
   "source": [
    "4) Crear una función que convierta entre grados Celsius, Farenheit y Kelvin<br>\n",
    "Fórmula 1\t: (°C × 9/5) + 32 = °F<br>\n",
    "Fórmula 2\t: °C + 273.15 = °K<br>\n",
    "Debe recibir 3 parámetros: el valor, la medida de orígen y la medida de destino\n"
   ]
  },
  {
   "cell_type": "code",
   "execution_count": 40,
   "metadata": {},
   "outputs": [
    {
     "data": {
      "text/plain": [
       "255.93"
      ]
     },
     "execution_count": 40,
     "metadata": {},
     "output_type": "execute_result"
    }
   ],
   "source": [
    "def conversion_temperatura(valor, medida_o, medida_d):\n",
    "    if medida_o == \"C\" and valor >= -273.15:\n",
    "        if medida_d == \"F\":\n",
    "            resultado = (valor * 9 / 5) + 32\n",
    "        elif medida_d == \"K\":\n",
    "            resultado = valor + 273.15\n",
    "        elif medida_d == \"C\":\n",
    "            resultado = valor\n",
    "        else:\n",
    "            return print(\"Tempreratura de destino no es correcta\")\n",
    "    elif medida_o == \"F\" and valor >= -459.67:\n",
    "        if medida_d == \"C\":\n",
    "            resultado = 5 / 9 * (valor - 32)\n",
    "        elif medida_d == \"K\":\n",
    "            resultado = 5 / 9 * (valor - 32) + 273.15\n",
    "        elif medida_d == \"F\":\n",
    "            resultado = valor\n",
    "        else:\n",
    "            return print(\"Tempreratura de destino no es correcta\")\n",
    "    elif medida_o == \"K\" and valor >= 0:\n",
    "        if medida_d == \"C\":\n",
    "            resultado = valor - 273.15\n",
    "        elif medida_d == \"F\":\n",
    "            resultado = (9 / 5) * (valor - 273.15) + 32\n",
    "        elif medida_d == \"K\":\n",
    "            resultado = valor\n",
    "        else:\n",
    "            return print(\"Tempreratura de destino no es correcta\")\n",
    "    else:\n",
    "        return print(\n",
    "            f\"Valor ingresado para la medida °{medida_o} no es válido. El límite más bajo de temperatura es 0°K, -273.15°C o -459.67°F.\"\n",
    "        )\n",
    "    return round(resultado, 2)\n",
    "\n",
    "\n",
    "conversion_temperatura(1, \"F\", \"K\")"
   ]
  },
  {
   "attachments": {},
   "cell_type": "markdown",
   "metadata": {},
   "source": [
    "5) Iterando una lista con los tres valores posibles de temperatura que recibe la función del punto 4, hacer un print para cada combinación de los mismos:"
   ]
  },
  {
   "cell_type": "code",
   "execution_count": 42,
   "metadata": {},
   "outputs": [
    {
     "name": "stdout",
     "output_type": "stream",
     "text": [
      "0°C equivale a 0°C\n",
      "0°C equivale a 32.0°F\n",
      "0°C equivale a 273.15°K\n",
      "0°F equivale a -17.78°C\n",
      "0°F equivale a 0°F\n",
      "0°F equivale a 255.37°K\n",
      "0°K equivale a -273.15°C\n",
      "0°K equivale a -459.67°F\n",
      "0°K equivale a 0°K\n"
     ]
    }
   ],
   "source": [
    "grados=['C','F','K']\n",
    "valor=0\n",
    "for i in range(0,3):\n",
    "    for j in range(0,3):\n",
    "        print(f'{valor}°{grados[i]} equivale a {conversion_temperatura(valor,grados[i],grados[j])}°{grados[j]}')"
   ]
  },
  {
   "attachments": {},
   "cell_type": "markdown",
   "metadata": {},
   "source": [
    "6) Armar una función que devuelva el factorial de un número. Tener en cuenta que el usuario puede equivocarse y enviar de parámetro un número no entero o negativo"
   ]
  },
  {
   "cell_type": "code",
   "execution_count": 43,
   "metadata": {},
   "outputs": [
    {
     "data": {
      "text/plain": [
       "120"
      ]
     },
     "execution_count": 43,
     "metadata": {},
     "output_type": "execute_result"
    }
   ],
   "source": [
    "def factorial(num):\n",
    "    if type(num) == int and num > 0:\n",
    "        num = num * factorial(num - 1)\n",
    "        return num\n",
    "    elif num == 0:\n",
    "        return 1\n",
    "    else:\n",
    "        return print(\"Solo se puede ingresar números positivos.\")\n",
    "\n",
    "factorial(5)"
   ]
  }
 ],
 "metadata": {
  "interpreter": {
   "hash": "c85384e4cb51c8b72350f3a8712cc8351fdc3955e32a27f9b60c6242ab125f01"
  },
  "kernelspec": {
   "display_name": "Python 3 (ipykernel)",
   "language": "python",
   "name": "python3"
  },
  "language_info": {
   "codemirror_mode": {
    "name": "ipython",
    "version": 3
   },
   "file_extension": ".py",
   "mimetype": "text/x-python",
   "name": "python",
   "nbconvert_exporter": "python",
   "pygments_lexer": "ipython3",
   "version": "3.11.4"
  }
 },
 "nbformat": 4,
 "nbformat_minor": 4
}
