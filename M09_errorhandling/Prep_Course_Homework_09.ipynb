{
 "cells": [
  {
   "attachments": {},
   "cell_type": "markdown",
   "metadata": {},
   "source": [
    "## Manejo de errores"
   ]
  },
  {
   "attachments": {},
   "cell_type": "markdown",
   "metadata": {},
   "source": [
    "1) Con la clase creada en el módulo 7, tener en cuenta diferentes casos en que el código pudiera arrojar error. Por ejemplo, en la creación del objeto recibimos una lista de números enteros pero ¿qué pasa si se envía otro tipo de dato?"
   ]
  },
  {
   "cell_type": "code",
   "execution_count": 1,
   "metadata": {},
   "outputs": [],
   "source": [
    "import sys\n",
    "sys.path.append(r\"C:/Users/jose_/Escritorio/Python-Prep/M08_clasesyOOP\")"
   ]
  },
  {
   "cell_type": "code",
   "execution_count": 2,
   "metadata": {},
   "outputs": [
    {
     "ename": "ValueError",
     "evalue": "Solo se debe colocar elementos del tipo \"list\".",
     "output_type": "error",
     "traceback": [
      "\u001b[1;31m---------------------------------------------------------------------------\u001b[0m",
      "\u001b[1;31mValueError\u001b[0m                                Traceback (most recent call last)",
      "\u001b[1;32mc:\\Users\\jose_\\Escritorio\\Python-Prep\\M09_errorhandling\\Prep_Course_Homework_09.ipynb Celda 4\u001b[0m line \u001b[0;36m3\n\u001b[0;32m      <a href='vscode-notebook-cell:/c%3A/Users/jose_/Escritorio/Python-Prep/M09_errorhandling/Prep_Course_Homework_09.ipynb#W3sZmlsZQ%3D%3D?line=0'>1</a>\u001b[0m \u001b[39mimport\u001b[39;00m \u001b[39mclassFunciones\u001b[39;00m \u001b[39mas\u001b[39;00m \u001b[39mcf\u001b[39;00m\n\u001b[1;32m----> <a href='vscode-notebook-cell:/c%3A/Users/jose_/Escritorio/Python-Prep/M09_errorhandling/Prep_Course_Homework_09.ipynb#W3sZmlsZQ%3D%3D?line=2'>3</a>\u001b[0m temp\u001b[39m=\u001b[39mcf\u001b[39m.\u001b[39;49mFunciones(\u001b[39m1\u001b[39;49m)\n",
      "File \u001b[1;32mC:\\Users/jose_/Escritorio/Python-Prep/M08_clasesyOOP\\classFunciones.py:5\u001b[0m, in \u001b[0;36mFunciones.__init__\u001b[1;34m(self, lista_fun)\u001b[0m\n\u001b[0;32m      3\u001b[0m \u001b[39mif\u001b[39;00m \u001b[39mtype\u001b[39m(lista_fun)\u001b[39m!=\u001b[39m\u001b[39mlist\u001b[39m:\n\u001b[0;32m      4\u001b[0m     \u001b[39mself\u001b[39m\u001b[39m.\u001b[39mlista_fun\u001b[39m=\u001b[39m[]\n\u001b[1;32m----> 5\u001b[0m     \u001b[39mraise\u001b[39;00m \u001b[39mValueError\u001b[39;00m(\u001b[39m'\u001b[39m\u001b[39mSolo se debe colocar elementos del tipo \u001b[39m\u001b[39m\"\u001b[39m\u001b[39mlist\u001b[39m\u001b[39m\"\u001b[39m\u001b[39m.\u001b[39m\u001b[39m'\u001b[39m)\n\u001b[0;32m      6\u001b[0m \u001b[39melse\u001b[39;00m:\n\u001b[0;32m      7\u001b[0m     \u001b[39mself\u001b[39m\u001b[39m.\u001b[39mlista_fun \u001b[39m=\u001b[39m lista_fun\n",
      "\u001b[1;31mValueError\u001b[0m: Solo se debe colocar elementos del tipo \"list\"."
     ]
    }
   ],
   "source": [
    "import classFunciones as cf\n",
    "\n",
    "temp=cf.Funciones(1)"
   ]
  },
  {
   "cell_type": "code",
   "execution_count": 3,
   "metadata": {},
   "outputs": [
    {
     "ename": "TypeError",
     "evalue": "La lista debe contener elementos del tipo \"int\".",
     "output_type": "error",
     "traceback": [
      "\u001b[1;31m---------------------------------------------------------------------------\u001b[0m",
      "\u001b[1;31mTypeError\u001b[0m                                 Traceback (most recent call last)",
      "\u001b[1;32mc:\\Users\\jose_\\Escritorio\\Python-Prep\\M09_errorhandling\\Prep_Course_Homework_09.ipynb Celda 5\u001b[0m line \u001b[0;36m2\n\u001b[0;32m      <a href='vscode-notebook-cell:/c%3A/Users/jose_/Escritorio/Python-Prep/M09_errorhandling/Prep_Course_Homework_09.ipynb#W4sZmlsZQ%3D%3D?line=0'>1</a>\u001b[0m prim\u001b[39m=\u001b[39mcf\u001b[39m.\u001b[39mFunciones([\u001b[39m1\u001b[39m,\u001b[39m2\u001b[39m,\u001b[39m'\u001b[39m\u001b[39m3\u001b[39m\u001b[39m'\u001b[39m,\u001b[39m4\u001b[39m])\n\u001b[1;32m----> <a href='vscode-notebook-cell:/c%3A/Users/jose_/Escritorio/Python-Prep/M09_errorhandling/Prep_Course_Homework_09.ipynb#W4sZmlsZQ%3D%3D?line=1'>2</a>\u001b[0m prim\u001b[39m.\u001b[39;49mlista_primos()\n",
      "File \u001b[1;32mC:\\Users/jose_/Escritorio/Python-Prep/M08_clasesyOOP\\classFunciones.py:34\u001b[0m, in \u001b[0;36mFunciones.lista_primos\u001b[1;34m(self)\u001b[0m\n\u001b[0;32m     32\u001b[0m             lis_prim\u001b[39m.\u001b[39mappend(\u001b[39mFalse\u001b[39;00m)\n\u001b[0;32m     33\u001b[0m     \u001b[39melse\u001b[39;00m:\n\u001b[1;32m---> 34\u001b[0m         \u001b[39mraise\u001b[39;00m \u001b[39mTypeError\u001b[39;00m(\u001b[39m'\u001b[39m\u001b[39mLa lista debe contener elementos del tipo \u001b[39m\u001b[39m\"\u001b[39m\u001b[39mint\u001b[39m\u001b[39m\"\u001b[39m\u001b[39m.\u001b[39m\u001b[39m'\u001b[39m)\n\u001b[0;32m     35\u001b[0m \u001b[39mreturn\u001b[39;00m lis_prim\n",
      "\u001b[1;31mTypeError\u001b[0m: La lista debe contener elementos del tipo \"int\"."
     ]
    }
   ],
   "source": [
    "prim=cf.Funciones([1,2,'3',4])\n",
    "prim.lista_primos()"
   ]
  },
  {
   "attachments": {},
   "cell_type": "markdown",
   "metadata": {},
   "source": [
    "2) En la función que hace la conversión de grados, validar que los parámetros enviados sean los esperados, de no serlo, informar cuáles son los valores esperados."
   ]
  },
  {
   "cell_type": "code",
   "execution_count": 4,
   "metadata": {},
   "outputs": [
    {
     "data": {
      "text/plain": [
       "<module 'classFunciones' from 'C:\\\\Users/jose_/Escritorio/Python-Prep/M08_clasesyOOP\\\\classFunciones.py'>"
      ]
     },
     "execution_count": 4,
     "metadata": {},
     "output_type": "execute_result"
    }
   ],
   "source": [
    "import importlib\n",
    "importlib.reload(cf)"
   ]
  },
  {
   "cell_type": "code",
   "execution_count": 5,
   "metadata": {},
   "outputs": [
    {
     "name": "stdout",
     "output_type": "stream",
     "text": [
      "Temperatura de origen y destino inválidas.\n",
      "Colocar medida de origen o destino válida: \"C\", \"F\" o \"K\".\n"
     ]
    }
   ],
   "source": [
    "temp = cf.Funciones([])\n",
    "temp.conversion_temperatura(1, \"d\", \"R\")"
   ]
  },
  {
   "cell_type": "code",
   "execution_count": 6,
   "metadata": {},
   "outputs": [
    {
     "name": "stdout",
     "output_type": "stream",
     "text": [
      "Temperatura de origen y destino inválidas.\n",
      "Colocar medida de origen o destino válida: \"C\", \"F\" o \"K\".\n"
     ]
    }
   ],
   "source": [
    "temp.conversion_temperatura(1, \"y\", \"t\")"
   ]
  },
  {
   "attachments": {},
   "cell_type": "markdown",
   "metadata": {},
   "source": [
    "3) Importar el modulo \"unittest\" y crear los siguientes casos de pruebas sobre la clase utilizada en el punto 2<br>\n",
    "    ❇️Creacion del objeto incorrecta<br>\n",
    "    ❇️Creacion correcta del objeto<br>\n",
    "    ❇️Método valor_modal()<br>\n",
    "\n",
    "Se puede usar \"raise ValueError()\" en la creación de la clase para verificar el error. Investigar sobre esta funcionalidad."
   ]
  },
  {
   "cell_type": "markdown",
   "metadata": {},
   "source": [
    "3.1. Creacion del objeto incorrecta"
   ]
  },
  {
   "cell_type": "code",
   "execution_count": 7,
   "metadata": {},
   "outputs": [],
   "source": [
    "import unittest\n",
    "\n",
    "class TestFunciones(unittest.TestCase):\n",
    "    def test_objeto_incorrecto(self):\n",
    "        ing = 12340\n",
    "        self.assertRaises(ValueError,cf.Funciones,ing)\n",
    "\n",
    "    def test_objeto_correcto(self):\n",
    "        ing = [1,2,3,4,5]\n",
    "        p1=cf.Funciones(ing)\n",
    "        self.assertEqual(p1.lista_fun, ing)\n",
    "    \n",
    "    def test_mas_repetidos(self):\n",
    "        lislis = [1,1,1,2,3,4,4]\n",
    "        mr=cf.Funciones(lislis)\n",
    "        mas_rep,reps=mr.mas_repetido()\n",
    "        mas_rep=[mas_rep]\n",
    "        mas_rep.append(reps)\n",
    "        resultado=[1,3]\n",
    "        self.assertEqual(mas_rep,resultado)"
   ]
  },
  {
   "cell_type": "code",
   "execution_count": 8,
   "metadata": {},
   "outputs": [
    {
     "name": "stderr",
     "output_type": "stream",
     "text": [
      "test_mas_repetidos (__main__.TestFunciones.test_mas_repetidos) ... ok\n",
      "test_objeto_correcto (__main__.TestFunciones.test_objeto_correcto) ... ok\n",
      "test_objeto_incorrecto (__main__.TestFunciones.test_objeto_incorrecto) ... ok\n",
      "\n",
      "----------------------------------------------------------------------\n",
      "Ran 3 tests in 0.007s\n",
      "\n",
      "OK\n"
     ]
    },
    {
     "data": {
      "text/plain": [
       "<unittest.main.TestProgram at 0x221bb0d33d0>"
      ]
     },
     "execution_count": 8,
     "metadata": {},
     "output_type": "execute_result"
    }
   ],
   "source": [
    "unittest.main(argv=[\"\"], verbosity=2, exit=False)"
   ]
  },
  {
   "attachments": {},
   "cell_type": "markdown",
   "metadata": {},
   "source": [
    "4) Probar una creación incorrecta y visualizar la salida del \"raise\""
   ]
  },
  {
   "cell_type": "code",
   "execution_count": 9,
   "metadata": {},
   "outputs": [
    {
     "ename": "ValueError",
     "evalue": "Solo se debe colocar elementos del tipo \"list\".",
     "output_type": "error",
     "traceback": [
      "\u001b[1;31m---------------------------------------------------------------------------\u001b[0m",
      "\u001b[1;31mValueError\u001b[0m                                Traceback (most recent call last)",
      "\u001b[1;32mc:\\Users\\jose_\\Escritorio\\Python-Prep\\M09_errorhandling\\Prep_Course_Homework_09.ipynb Celda 15\u001b[0m line \u001b[0;36m1\n\u001b[1;32m----> <a href='vscode-notebook-cell:/c%3A/Users/jose_/Escritorio/Python-Prep/M09_errorhandling/Prep_Course_Homework_09.ipynb#X20sZmlsZQ%3D%3D?line=0'>1</a>\u001b[0m fact\u001b[39m=\u001b[39mcf\u001b[39m.\u001b[39;49mFunciones(\u001b[39mTrue\u001b[39;49;00m)\n",
      "File \u001b[1;32mC:\\Users/jose_/Escritorio/Python-Prep/M08_clasesyOOP\\classFunciones.py:5\u001b[0m, in \u001b[0;36mFunciones.__init__\u001b[1;34m(self, lista_fun)\u001b[0m\n\u001b[0;32m      3\u001b[0m \u001b[39mif\u001b[39;00m \u001b[39mtype\u001b[39m(lista_fun)\u001b[39m!=\u001b[39m\u001b[39mlist\u001b[39m:\n\u001b[0;32m      4\u001b[0m     \u001b[39mself\u001b[39m\u001b[39m.\u001b[39mlista_fun\u001b[39m=\u001b[39m[]\n\u001b[1;32m----> 5\u001b[0m     \u001b[39mraise\u001b[39;00m \u001b[39mValueError\u001b[39;00m(\u001b[39m'\u001b[39m\u001b[39mSolo se debe colocar elementos del tipo \u001b[39m\u001b[39m\"\u001b[39m\u001b[39mlist\u001b[39m\u001b[39m\"\u001b[39m\u001b[39m.\u001b[39m\u001b[39m'\u001b[39m)\n\u001b[0;32m      6\u001b[0m \u001b[39melse\u001b[39;00m:\n\u001b[0;32m      7\u001b[0m     \u001b[39mself\u001b[39m\u001b[39m.\u001b[39mlista_fun \u001b[39m=\u001b[39m lista_fun\n",
      "\u001b[1;31mValueError\u001b[0m: Solo se debe colocar elementos del tipo \"list\"."
     ]
    }
   ],
   "source": [
    "fact=cf.Funciones(True)"
   ]
  },
  {
   "attachments": {},
   "cell_type": "markdown",
   "metadata": {},
   "source": [
    "6) Agregar casos de pruebas para el método verifica_primos() realizando el cambio en la clase, para que devuelva una lista de True o False en función de que el elemento en la posición sea o no primo"
   ]
  },
  {
   "cell_type": "code",
   "execution_count": 10,
   "metadata": {},
   "outputs": [
    {
     "name": "stderr",
     "output_type": "stream",
     "text": [
      "test_mas_repetidos (__main__.TestFunciones.test_mas_repetidos) ... ok\n",
      "test_objeto_correcto (__main__.TestFunciones.test_objeto_correcto) ... ok\n",
      "test_objeto_incorrecto (__main__.TestFunciones.test_objeto_incorrecto) ... ok\n",
      "test_lista_primos (__main__.TestFunciones2.test_lista_primos) ... ok\n",
      "\n",
      "----------------------------------------------------------------------\n",
      "Ran 4 tests in 0.008s\n",
      "\n",
      "OK\n"
     ]
    },
    {
     "data": {
      "text/plain": [
       "<unittest.main.TestProgram at 0x221bb0d2090>"
      ]
     },
     "execution_count": 10,
     "metadata": {},
     "output_type": "execute_result"
    }
   ],
   "source": [
    "class TestFunciones2(unittest.TestCase):\n",
    "    def test_lista_primos(self):\n",
    "        lispru=list(range(1,6))\n",
    "        obj=cf.Funciones(lispru)\n",
    "        lispri=obj.lista_primos()\n",
    "        resultado=[False,True,True,False,True]\n",
    "        self.assertEqual(lispri,resultado)\n",
    "\n",
    "importlib.reload(cf)\n",
    "unittest.main(argv=[\"\"],verbosity=2,exit=False)"
   ]
  },
  {
   "attachments": {},
   "cell_type": "markdown",
   "metadata": {},
   "source": [
    "7) Agregar casos de pruebas para el método conversion_grados()"
   ]
  },
  {
   "cell_type": "code",
   "execution_count": 11,
   "metadata": {},
   "outputs": [
    {
     "name": "stderr",
     "output_type": "stream",
     "text": [
      "test_mas_repetidos (__main__.TestFunciones.test_mas_repetidos) ... ok\n",
      "test_objeto_correcto (__main__.TestFunciones.test_objeto_correcto) ... ok\n",
      "test_objeto_incorrecto (__main__.TestFunciones.test_objeto_incorrecto) ... ok\n",
      "test_lista_primos (__main__.TestFunciones2.test_lista_primos) ... ok\n",
      "test_conversion_temperatura (__main__.TestFunciones3.test_conversion_temperatura) ... ok\n",
      "\n",
      "----------------------------------------------------------------------\n",
      "Ran 5 tests in 0.012s\n",
      "\n",
      "OK\n"
     ]
    },
    {
     "data": {
      "text/plain": [
       "<unittest.main.TestProgram at 0x221bb145690>"
      ]
     },
     "execution_count": 11,
     "metadata": {},
     "output_type": "execute_result"
    }
   ],
   "source": [
    "class TestFunciones3(unittest.TestCase):\n",
    "    def test_conversion_temperatura(self):\n",
    "        val=0\n",
    "        ori='C'\n",
    "        des='K'\n",
    "        tempe=cf.Funciones([])\n",
    "        result=tempe.conversion_temperatura(val,ori,des)\n",
    "        self.assertEqual(result,273.15)\n",
    "\n",
    "unittest.main(argv=[\"\"],verbosity=2,exit=False)"
   ]
  },
  {
   "attachments": {},
   "cell_type": "markdown",
   "metadata": {},
   "source": [
    "8) Agregar casos de pruebas para el método factorial()"
   ]
  },
  {
   "cell_type": "code",
   "execution_count": 12,
   "metadata": {},
   "outputs": [
    {
     "name": "stderr",
     "output_type": "stream",
     "text": [
      "test_mas_repetidos (__main__.TestFunciones.test_mas_repetidos) ... ok\n",
      "test_objeto_correcto (__main__.TestFunciones.test_objeto_correcto) ... ok\n",
      "test_objeto_incorrecto (__main__.TestFunciones.test_objeto_incorrecto) ... ok\n",
      "test_lista_primos (__main__.TestFunciones2.test_lista_primos) ... ok\n",
      "test_conversion_temperatura (__main__.TestFunciones3.test_conversion_temperatura) ... ok\n",
      "test_factorial_todo (__main__.TestFunciones4.test_factorial_todo) ... ok\n",
      "\n",
      "----------------------------------------------------------------------\n",
      "Ran 6 tests in 0.010s\n",
      "\n",
      "OK\n"
     ]
    },
    {
     "data": {
      "text/plain": [
       "<unittest.main.TestProgram at 0x221bb14fbd0>"
      ]
     },
     "execution_count": 12,
     "metadata": {},
     "output_type": "execute_result"
    }
   ],
   "source": [
    "importlib.reload(cf)\n",
    "\n",
    "class TestFunciones4(unittest.TestCase):\n",
    "    def test_factorial_todo(self):\n",
    "        lisfac=list(range(1,6))\n",
    "        factodo=cf.Funciones(lisfac)\n",
    "        facts=factodo.factorial_todo()\n",
    "        facts_esperados=[1,2,6,24,120]\n",
    "        self.assertEqual(facts,facts_esperados)\n",
    "\n",
    "unittest.main(argv=[\"\"],verbosity=2,exit=False)"
   ]
  }
 ],
 "metadata": {
  "interpreter": {
   "hash": "c85384e4cb51c8b72350f3a8712cc8351fdc3955e32a27f9b60c6242ab125f01"
  },
  "kernelspec": {
   "display_name": "Python 3 (ipykernel)",
   "language": "python",
   "name": "python3"
  },
  "language_info": {
   "codemirror_mode": {
    "name": "ipython",
    "version": 3
   },
   "file_extension": ".py",
   "mimetype": "text/x-python",
   "name": "python",
   "nbconvert_exporter": "python",
   "pygments_lexer": "ipython3",
   "version": "3.11.4"
  }
 },
 "nbformat": 4,
 "nbformat_minor": 4
}
