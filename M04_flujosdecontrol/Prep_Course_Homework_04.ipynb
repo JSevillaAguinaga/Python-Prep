{
 "cells": [
  {
   "attachments": {},
   "cell_type": "markdown",
   "metadata": {},
   "source": [
    "## Flujos de Control"
   ]
  },
  {
   "attachments": {},
   "cell_type": "markdown",
   "metadata": {},
   "source": [
    "1) Crear una variable que contenga un elemento del conjunto de números enteros y luego imprimir por pantalla si es mayor o menor a cero"
   ]
  },
  {
   "cell_type": "code",
   "execution_count": 51,
   "metadata": {},
   "outputs": [
    {
     "name": "stdout",
     "output_type": "stream",
     "text": [
      "x es mayor a 0\n"
     ]
    }
   ],
   "source": [
    "x=10\n",
    "if x>0:\n",
    "    print('x es mayor a 0')\n",
    "else:\n",
    "    print('x es menor a 0')"
   ]
  },
  {
   "attachments": {},
   "cell_type": "markdown",
   "metadata": {},
   "source": [
    "2) Crear dos variables y un condicional que informe si son del mismo tipo de dato"
   ]
  },
  {
   "cell_type": "code",
   "execution_count": 10,
   "metadata": {},
   "outputs": [
    {
     "name": "stdout",
     "output_type": "stream",
     "text": [
      "e no tiene el mismo tipo de s\n"
     ]
    }
   ],
   "source": [
    "e=1\n",
    "s='1'\n",
    "if type(e)==type(s):\n",
    "    print('e tiene el mismo tipo de s')\n",
    "else:\n",
    "    print('e no tiene el mismo tipo de s')"
   ]
  },
  {
   "attachments": {},
   "cell_type": "markdown",
   "metadata": {},
   "source": [
    "3) Para los valores enteros del 1 al 20, imprimir por pantalla si es par o impar"
   ]
  },
  {
   "cell_type": "code",
   "execution_count": 11,
   "metadata": {},
   "outputs": [
    {
     "name": "stdout",
     "output_type": "stream",
     "text": [
      "1 es impar\n",
      "2 es par\n",
      "3 es impar\n",
      "4 es par\n",
      "5 es impar\n",
      "6 es par\n",
      "7 es impar\n",
      "8 es par\n",
      "9 es impar\n",
      "10 es par\n",
      "11 es impar\n",
      "12 es par\n",
      "13 es impar\n",
      "14 es par\n",
      "15 es impar\n",
      "16 es par\n",
      "17 es impar\n",
      "18 es par\n",
      "19 es impar\n",
      "20 es par\n"
     ]
    }
   ],
   "source": [
    "for i in range(1,21):\n",
    "    if i%2==0:\n",
    "        print(f'{i} es par')\n",
    "    else:\n",
    "        print(f'{i} es impar')"
   ]
  },
  {
   "attachments": {},
   "cell_type": "markdown",
   "metadata": {},
   "source": [
    "4) En un ciclo for mostrar para los valores entre 0 y 5 el resultado de elevarlo a la potencia igual a 3"
   ]
  },
  {
   "cell_type": "code",
   "execution_count": 2,
   "metadata": {},
   "outputs": [
    {
     "name": "stdout",
     "output_type": "stream",
     "text": [
      "0\n",
      "1\n",
      "8\n",
      "27\n",
      "64\n",
      "125\n"
     ]
    }
   ],
   "source": [
    "for i in range(0,6):\n",
    "    pote=i**3\n",
    "    print(pote)"
   ]
  },
  {
   "attachments": {},
   "cell_type": "markdown",
   "metadata": {},
   "source": [
    "5) Crear una variable que contenga un número entero y realizar un ciclo for la misma cantidad de ciclos"
   ]
  },
  {
   "cell_type": "code",
   "execution_count": 29,
   "metadata": {},
   "outputs": [
    {
     "name": "stdout",
     "output_type": "stream",
     "text": [
      "Este texto se repite 5 veces.\n",
      "Este texto se repite 5 veces.\n",
      "Este texto se repite 5 veces.\n",
      "Este texto se repite 5 veces.\n",
      "Este texto se repite 5 veces.\n"
     ]
    }
   ],
   "source": [
    "v=5\n",
    "for i in range(v):\n",
    "    if v!=1:\n",
    "        print(f'Este texto se repite {v} veces.')\n",
    "    else:\n",
    "        print(f'Este texto se repite {v} vez.')"
   ]
  },
  {
   "attachments": {},
   "cell_type": "markdown",
   "metadata": {},
   "source": [
    "6) Utilizar un ciclo while para realizar el factorial de un número guardado en una variable, sólo si la variable contiene un número entero mayor a 0"
   ]
  },
  {
   "cell_type": "code",
   "execution_count": 42,
   "metadata": {},
   "outputs": [
    {
     "name": "stdout",
     "output_type": "stream",
     "text": [
      "El factorial es 120.\n"
     ]
    }
   ],
   "source": [
    "n = 5\n",
    "if (type(n) == int):\n",
    "    if (n > 0):\n",
    "        factorial = n\n",
    "        while (n > 2):\n",
    "            n-=1\n",
    "            factorial*=n\n",
    "        print(f'El factorial es {factorial}.')\n",
    "    else:\n",
    "        print('La variable no es mayor a cero')\n",
    "else:\n",
    "    print('La variable no es un entero')"
   ]
  },
  {
   "attachments": {},
   "cell_type": "markdown",
   "metadata": {},
   "source": [
    "7) Crear un ciclo for dentro de un ciclo while"
   ]
  },
  {
   "cell_type": "code",
   "execution_count": 4,
   "metadata": {},
   "outputs": [
    {
     "name": "stdout",
     "output_type": "stream",
     "text": [
      "El valor de x ahora es 0\n",
      "Después de 2 repeticiones más, el valor de x aumentará en 1.\n",
      "Después de 1 repeticiones más, el valor de x aumentará en 1.\n",
      "Después de 0 repeticiones más, el valor de x aumentará en 1.\n",
      "El valor de x ha cambiado y ahora es igual a 1\n",
      "Después de 2 repeticiones más, el valor de x aumentará en 1.\n",
      "Después de 1 repeticiones más, el valor de x aumentará en 1.\n",
      "Después de 0 repeticiones más, el valor de x aumentará en 1.\n",
      "El valor de x ha cambiado y ahora es igual a 2\n",
      "Después de 2 repeticiones más, el valor de x aumentará en 1.\n",
      "Después de 1 repeticiones más, el valor de x aumentará en 1.\n",
      "Después de 0 repeticiones más, el valor de x aumentará en 1.\n",
      "El valor de x ha cambiado y ahora es igual a 3\n",
      "Después de 2 repeticiones más, el valor de x aumentará en 1.\n",
      "Después de 1 repeticiones más, el valor de x aumentará en 1.\n",
      "Después de 0 repeticiones más, el valor de x aumentará en 1.\n",
      "El valor de x ha cambiado y ahora es igual a 4\n"
     ]
    }
   ],
   "source": [
    "x=0\n",
    "print(f'El valor de x ahora es {x}')\n",
    "while x<4:\n",
    "    x+=1\n",
    "    for i in range(3,0,-1):\n",
    "        i-=1\n",
    "        print(f'Después de {i} repeticiones más, el valor de x aumentará en 1.')\n",
    "    print(f'El valor de x ha cambiado y ahora es igual a {x}')"
   ]
  },
  {
   "attachments": {},
   "cell_type": "markdown",
   "metadata": {},
   "source": [
    "8) Crear un ciclo while dentro de un ciclo for"
   ]
  },
  {
   "cell_type": "code",
   "execution_count": 9,
   "metadata": {},
   "outputs": [
    {
     "name": "stdout",
     "output_type": "stream",
     "text": [
      "TABLAS DE MULTIPLICAR HASTA N\n",
      "Tabla del 13:\n",
      "13 x 1 = 13\n",
      "13 x 2 = 26\n",
      "13 x 3 = 39\n",
      "13 x 4 = 52\n",
      "13 x 5 = 65\n",
      "Tabla del 17:\n",
      "17 x 1 = 17\n",
      "17 x 2 = 34\n",
      "17 x 3 = 51\n",
      "17 x 4 = 68\n",
      "17 x 5 = 85\n",
      "Tabla del 18:\n",
      "18 x 1 = 18\n",
      "18 x 2 = 36\n",
      "18 x 3 = 54\n",
      "18 x 4 = 72\n",
      "18 x 5 = 90\n"
     ]
    }
   ],
   "source": [
    "print('TABLAS DE MULTIPLICAR HASTA N')\n",
    "\n",
    "for i in list([13,17,18]):\n",
    "    print(f'Tabla del {i}:')\n",
    "    multipl=1\n",
    "    while multipl<=5:\n",
    "        prod=i*multipl\n",
    "        print(f'{i} x {multipl} = {prod}')\n",
    "        multipl+=1"
   ]
  },
  {
   "attachments": {},
   "cell_type": "markdown",
   "metadata": {},
   "source": [
    "9) Imprimir los números primos existentes entre 0 y 30"
   ]
  },
  {
   "cell_type": "code",
   "execution_count": 1,
   "metadata": {},
   "outputs": [
    {
     "name": "stdout",
     "output_type": "stream",
     "text": [
      "2\n",
      "3\n",
      "5\n",
      "7\n",
      "11\n",
      "13\n",
      "17\n",
      "19\n",
      "23\n",
      "29\n"
     ]
    }
   ],
   "source": [
    "for i in range(2,31):\n",
    "    divisor=2\n",
    "    cont=0\n",
    "    while i>divisor:\n",
    "        resto=i%divisor\n",
    "        divisor+=1\n",
    "        if resto==0:\n",
    "            cont+=1\n",
    "    if cont==0:\n",
    "        print(i)"
   ]
  },
  {
   "attachments": {},
   "cell_type": "markdown",
   "metadata": {},
   "source": [
    "10) ¿Se puede mejorar el proceso del punto 9? Utilizar las sentencias break y/ó continue para tal fin"
   ]
  },
  {
   "cell_type": "code",
   "execution_count": 46,
   "metadata": {},
   "outputs": [
    {
     "name": "stdout",
     "output_type": "stream",
     "text": [
      "2\n",
      "3\n",
      "5\n",
      "7\n",
      "11\n",
      "13\n",
      "17\n",
      "19\n",
      "23\n",
      "29\n"
     ]
    }
   ],
   "source": [
    "for i in range(2,31):\n",
    "    divisor=2\n",
    "    cont=0\n",
    "    while i>divisor and cont==0:\n",
    "        resto=i%divisor\n",
    "        divisor+=1\n",
    "        if resto==0:\n",
    "            cont+=1\n",
    "            break\n",
    "    if cont==0:\n",
    "        print(i)"
   ]
  },
  {
   "attachments": {},
   "cell_type": "markdown",
   "metadata": {},
   "source": [
    "11) En los puntos 9 y 10, se diseño un código que encuentra números primos y además se lo optimizó. ¿Es posible saber en qué medida se optimizó?"
   ]
  },
  {
   "cell_type": "code",
   "execution_count": 45,
   "metadata": {},
   "outputs": [
    {
     "name": "stdout",
     "output_type": "stream",
     "text": [
      "2\n",
      "3\n",
      "5\n",
      "7\n",
      "11\n",
      "13\n",
      "17\n",
      "19\n",
      "23\n",
      "29\n",
      "Ciclos sin break: 406\n"
     ]
    }
   ],
   "source": [
    "#CICLOS SIN BREAK\n",
    "ciclos_sin_break=0\n",
    "for i in range(2,31):\n",
    "    divisor=2\n",
    "    cont=0\n",
    "    while i>divisor:\n",
    "        ciclos_sin_break+=1\n",
    "        resto=i%divisor\n",
    "        divisor+=1\n",
    "        if resto==0:\n",
    "            cont+=1\n",
    "    if cont==0:\n",
    "        print(i)\n",
    "print(f'Ciclos sin break: {ciclos_sin_break}')"
   ]
  },
  {
   "cell_type": "code",
   "execution_count": 56,
   "metadata": {},
   "outputs": [
    {
     "name": "stdout",
     "output_type": "stream",
     "text": [
      "2\n",
      "3\n",
      "5\n",
      "7\n",
      "11\n",
      "13\n",
      "17\n",
      "19\n",
      "23\n",
      "29\n",
      "Ciclos con break: 135\n",
      "Se optimizó un 66.75%\n"
     ]
    }
   ],
   "source": [
    "#CICLOS CON BREAK\n",
    "ciclos_con_break=0\n",
    "for i in range(2,31):\n",
    "    divisor=2\n",
    "    cont=0\n",
    "    while i>divisor and cont==0:\n",
    "        ciclos_con_break+=1\n",
    "        resto=i%divisor\n",
    "        divisor+=1\n",
    "        if resto==0:\n",
    "            cont+=1\n",
    "            break\n",
    "    if cont==0:\n",
    "        print(i)\n",
    "print(f'Ciclos con break: {ciclos_con_break}')\n",
    "print(f'Se optimizó un {round((1-(ciclos_con_break/ciclos_sin_break))*100,2)}%')"
   ]
  },
  {
   "attachments": {},
   "cell_type": "markdown",
   "metadata": {},
   "source": [
    "12) Aplicando continue, armar un ciclo while que solo imprima los valores divisibles por 12, dentro del rango de números de 100 a 300"
   ]
  },
  {
   "cell_type": "code",
   "execution_count": 20,
   "metadata": {},
   "outputs": [
    {
     "name": "stdout",
     "output_type": "stream",
     "text": [
      "108 120 132 144 156 168 180 192 204 216 228 240 252 264 276 288 300 "
     ]
    }
   ],
   "source": [
    "n=100\n",
    "while n>=100 and n<=300:\n",
    "    n+=1\n",
    "    if n%12!=0:\n",
    "        continue\n",
    "    print(n,end=' ')"
   ]
  },
  {
   "attachments": {},
   "cell_type": "markdown",
   "metadata": {},
   "source": [
    "13) Utilizar la función **input()** que permite hacer ingresos por teclado, para encontrar números primos y dar la opción al usario de buscar el siguiente"
   ]
  },
  {
   "cell_type": "code",
   "execution_count": 57,
   "metadata": {},
   "outputs": [],
   "source": [
    "ini=int(input('Ingresa un número natural desde el cual se van a mostrar los números primos: '))\n",
    "fin=int(input('Ingresa un número natural hasta donde se van a mostrar los números primos: '))\n",
    "if ini<=1:\n",
    "    ini=2\n",
    "for i in range(ini,fin):\n",
    "    divisor=2\n",
    "    cont=0\n",
    "    while i>divisor:\n",
    "        resto=i%divisor\n",
    "        divisor+=1\n",
    "        if resto==0:\n",
    "            cont+=1\n",
    "            break\n",
    "    if cont==0:\n",
    "        print(i)\n",
    "        opc=str(input('Escriba \"s\" para ver el siguiente número primo'\n",
    "                      '\\no escriba cualquier otra tecla para finalizar: '))\n",
    "        if opc!='s':\n",
    "            print('Opción inválida')\n",
    "            break"
   ]
  },
  {
   "attachments": {},
   "cell_type": "markdown",
   "metadata": {},
   "source": [
    "14) Crear un ciclo while que encuentre dentro del rango de 100 a 300 el primer número divisible por 3 y además múltiplo de 6"
   ]
  },
  {
   "cell_type": "code",
   "execution_count": 5,
   "metadata": {},
   "outputs": [
    {
     "name": "stdout",
     "output_type": "stream",
     "text": [
      "El número es: 102\n"
     ]
    }
   ],
   "source": [
    "for num in range(100,301):\n",
    "    resto=num%6\n",
    "    while resto==0:\n",
    "        print(f'El número es: {num}')\n",
    "        break\n",
    "    if resto==0:\n",
    "        break\n",
    "\n"
   ]
  }
 ],
 "metadata": {
  "interpreter": {
   "hash": "c85384e4cb51c8b72350f3a8712cc8351fdc3955e32a27f9b60c6242ab125f01"
  },
  "kernelspec": {
   "display_name": "Python 3 (ipykernel)",
   "language": "python",
   "name": "python3"
  },
  "language_info": {
   "codemirror_mode": {
    "name": "ipython",
    "version": 3
   },
   "file_extension": ".py",
   "mimetype": "text/x-python",
   "name": "python",
   "nbconvert_exporter": "python",
   "pygments_lexer": "ipython3",
   "version": "3.11.4"
  }
 },
 "nbformat": 4,
 "nbformat_minor": 4
}
